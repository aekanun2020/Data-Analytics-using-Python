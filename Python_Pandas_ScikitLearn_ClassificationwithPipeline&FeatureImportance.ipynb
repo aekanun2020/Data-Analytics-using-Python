{
  "nbformat": 4,
  "nbformat_minor": 5,
  "metadata": {
    "environment": {
      "name": "common-cpu.m69",
      "type": "gcloud",
      "uri": "gcr.io/deeplearning-platform-release/base-cpu:m69"
    },
    "kernelspec": {
      "display_name": "Python 3",
      "language": "python",
      "name": "python3"
    },
    "language_info": {
      "codemirror_mode": {
        "name": "ipython",
        "version": 3
      },
      "file_extension": ".py",
      "mimetype": "text/x-python",
      "name": "python",
      "nbconvert_exporter": "python",
      "pygments_lexer": "ipython3",
      "version": "3.7.10"
    },
    "colab": {
      "provenance": [],
      "collapsed_sections": [],
      "include_colab_link": true
    }
  },
  "cells": [
    {
      "cell_type": "markdown",
      "metadata": {
        "id": "view-in-github",
        "colab_type": "text"
      },
      "source": [
        "<a href=\"https://colab.research.google.com/github/aekanun2020/Data-Analytics-using-Python/blob/main/Python_Pandas_ScikitLearn_ClassificationwithPipeline%26FeatureImportance.ipynb\" target=\"_parent\"><img src=\"https://colab.research.google.com/assets/colab-badge.svg\" alt=\"Open In Colab\"/></a>"
      ]
    },
    {
      "cell_type": "code",
      "metadata": {
        "id": "e18cb723"
      },
      "source": [
        "import numpy as np\n",
        "import pandas as pd\n",
        "import matplotlib.pyplot as plt\n",
        "import seaborn as sns"
      ],
      "id": "e18cb723",
      "execution_count": null,
      "outputs": []
    },
    {
      "cell_type": "code",
      "metadata": {
        "id": "106ba2be",
        "colab": {
          "base_uri": "https://localhost:8080/"
        },
        "outputId": "72b04625-d4ba-4018-f83e-c27b6374b81d"
      },
      "source": [
        "!wget https://storage.googleapis.com/5-7sep2022/data/flight.csv\n",
        "raw_pd = pd.read_csv(\"flight.csv\")"
      ],
      "id": "106ba2be",
      "execution_count": null,
      "outputs": [
        {
          "output_type": "stream",
          "name": "stdout",
          "text": [
            "--2022-09-03 07:00:22--  https://storage.googleapis.com/5-7sep2022/data/flight.csv\n",
            "Resolving storage.googleapis.com (storage.googleapis.com)... 74.125.195.128, 142.250.99.128, 142.250.107.128, ...\n",
            "Connecting to storage.googleapis.com (storage.googleapis.com)|74.125.195.128|:443... connected.\n",
            "HTTP request sent, awaiting response... 200 OK\n",
            "Length: 1617318 (1.5M) [text/csv]\n",
            "Saving to: ‘flight.csv’\n",
            "\n",
            "flight.csv          100%[===================>]   1.54M  --.-KB/s    in 0.01s   \n",
            "\n",
            "2022-09-03 07:00:22 (140 MB/s) - ‘flight.csv’ saved [1617318/1617318]\n",
            "\n"
          ]
        }
      ]
    },
    {
      "cell_type": "markdown",
      "metadata": {
        "id": "49e7561d"
      },
      "source": [
        "## 1. Business Understanding"
      ],
      "id": "49e7561d"
    },
    {
      "cell_type": "markdown",
      "metadata": {
        "id": "a9337c3a"
      },
      "source": [
        "## 2. Data Understanding"
      ],
      "id": "a9337c3a"
    },
    {
      "cell_type": "markdown",
      "metadata": {
        "id": "7ec647f6"
      },
      "source": [
        "#### 2.1 ดู contents 5 rows แรก"
      ],
      "id": "7ec647f6"
    },
    {
      "cell_type": "code",
      "metadata": {
        "id": "e6af5066",
        "colab": {
          "base_uri": "https://localhost:8080/",
          "height": 270
        },
        "outputId": "8b402f30-5dd6-425b-f574-70c12c4e4a57"
      },
      "source": [
        "raw_pd.head(5)"
      ],
      "id": "e6af5066",
      "execution_count": null,
      "outputs": [
        {
          "output_type": "execute_result",
          "data": {
            "text/plain": [
              "         date airline departure_airport arrival_airport  departure_delay  \\\n",
              "0  2009-02-05      WN               SFO             LAX                2   \n",
              "1  2009-02-05      WN               SFO             LAX               47   \n",
              "2  2009-02-05      WN               SFO             LAX               52   \n",
              "3  2009-02-05      WN               SFO             LAX               92   \n",
              "4  2009-02-05      WN               SFO             LAX               80   \n",
              "\n",
              "   arrival_delay  dayofweek  month  delayed  \n",
              "0              1          5      2        0  \n",
              "1             43          5      2        1  \n",
              "2             42          5      2        1  \n",
              "3             84          5      2        1  \n",
              "4             76          5      2        1  "
            ],
            "text/html": [
              "\n",
              "  <div id=\"df-e8370d8a-5997-4c26-af27-1efb628fb0da\">\n",
              "    <div class=\"colab-df-container\">\n",
              "      <div>\n",
              "<style scoped>\n",
              "    .dataframe tbody tr th:only-of-type {\n",
              "        vertical-align: middle;\n",
              "    }\n",
              "\n",
              "    .dataframe tbody tr th {\n",
              "        vertical-align: top;\n",
              "    }\n",
              "\n",
              "    .dataframe thead th {\n",
              "        text-align: right;\n",
              "    }\n",
              "</style>\n",
              "<table border=\"1\" class=\"dataframe\">\n",
              "  <thead>\n",
              "    <tr style=\"text-align: right;\">\n",
              "      <th></th>\n",
              "      <th>date</th>\n",
              "      <th>airline</th>\n",
              "      <th>departure_airport</th>\n",
              "      <th>arrival_airport</th>\n",
              "      <th>departure_delay</th>\n",
              "      <th>arrival_delay</th>\n",
              "      <th>dayofweek</th>\n",
              "      <th>month</th>\n",
              "      <th>delayed</th>\n",
              "    </tr>\n",
              "  </thead>\n",
              "  <tbody>\n",
              "    <tr>\n",
              "      <th>0</th>\n",
              "      <td>2009-02-05</td>\n",
              "      <td>WN</td>\n",
              "      <td>SFO</td>\n",
              "      <td>LAX</td>\n",
              "      <td>2</td>\n",
              "      <td>1</td>\n",
              "      <td>5</td>\n",
              "      <td>2</td>\n",
              "      <td>0</td>\n",
              "    </tr>\n",
              "    <tr>\n",
              "      <th>1</th>\n",
              "      <td>2009-02-05</td>\n",
              "      <td>WN</td>\n",
              "      <td>SFO</td>\n",
              "      <td>LAX</td>\n",
              "      <td>47</td>\n",
              "      <td>43</td>\n",
              "      <td>5</td>\n",
              "      <td>2</td>\n",
              "      <td>1</td>\n",
              "    </tr>\n",
              "    <tr>\n",
              "      <th>2</th>\n",
              "      <td>2009-02-05</td>\n",
              "      <td>WN</td>\n",
              "      <td>SFO</td>\n",
              "      <td>LAX</td>\n",
              "      <td>52</td>\n",
              "      <td>42</td>\n",
              "      <td>5</td>\n",
              "      <td>2</td>\n",
              "      <td>1</td>\n",
              "    </tr>\n",
              "    <tr>\n",
              "      <th>3</th>\n",
              "      <td>2009-02-05</td>\n",
              "      <td>WN</td>\n",
              "      <td>SFO</td>\n",
              "      <td>LAX</td>\n",
              "      <td>92</td>\n",
              "      <td>84</td>\n",
              "      <td>5</td>\n",
              "      <td>2</td>\n",
              "      <td>1</td>\n",
              "    </tr>\n",
              "    <tr>\n",
              "      <th>4</th>\n",
              "      <td>2009-02-05</td>\n",
              "      <td>WN</td>\n",
              "      <td>SFO</td>\n",
              "      <td>LAX</td>\n",
              "      <td>80</td>\n",
              "      <td>76</td>\n",
              "      <td>5</td>\n",
              "      <td>2</td>\n",
              "      <td>1</td>\n",
              "    </tr>\n",
              "  </tbody>\n",
              "</table>\n",
              "</div>\n",
              "      <button class=\"colab-df-convert\" onclick=\"convertToInteractive('df-e8370d8a-5997-4c26-af27-1efb628fb0da')\"\n",
              "              title=\"Convert this dataframe to an interactive table.\"\n",
              "              style=\"display:none;\">\n",
              "        \n",
              "  <svg xmlns=\"http://www.w3.org/2000/svg\" height=\"24px\"viewBox=\"0 0 24 24\"\n",
              "       width=\"24px\">\n",
              "    <path d=\"M0 0h24v24H0V0z\" fill=\"none\"/>\n",
              "    <path d=\"M18.56 5.44l.94 2.06.94-2.06 2.06-.94-2.06-.94-.94-2.06-.94 2.06-2.06.94zm-11 1L8.5 8.5l.94-2.06 2.06-.94-2.06-.94L8.5 2.5l-.94 2.06-2.06.94zm10 10l.94 2.06.94-2.06 2.06-.94-2.06-.94-.94-2.06-.94 2.06-2.06.94z\"/><path d=\"M17.41 7.96l-1.37-1.37c-.4-.4-.92-.59-1.43-.59-.52 0-1.04.2-1.43.59L10.3 9.45l-7.72 7.72c-.78.78-.78 2.05 0 2.83L4 21.41c.39.39.9.59 1.41.59.51 0 1.02-.2 1.41-.59l7.78-7.78 2.81-2.81c.8-.78.8-2.07 0-2.86zM5.41 20L4 18.59l7.72-7.72 1.47 1.35L5.41 20z\"/>\n",
              "  </svg>\n",
              "      </button>\n",
              "      \n",
              "  <style>\n",
              "    .colab-df-container {\n",
              "      display:flex;\n",
              "      flex-wrap:wrap;\n",
              "      gap: 12px;\n",
              "    }\n",
              "\n",
              "    .colab-df-convert {\n",
              "      background-color: #E8F0FE;\n",
              "      border: none;\n",
              "      border-radius: 50%;\n",
              "      cursor: pointer;\n",
              "      display: none;\n",
              "      fill: #1967D2;\n",
              "      height: 32px;\n",
              "      padding: 0 0 0 0;\n",
              "      width: 32px;\n",
              "    }\n",
              "\n",
              "    .colab-df-convert:hover {\n",
              "      background-color: #E2EBFA;\n",
              "      box-shadow: 0px 1px 2px rgba(60, 64, 67, 0.3), 0px 1px 3px 1px rgba(60, 64, 67, 0.15);\n",
              "      fill: #174EA6;\n",
              "    }\n",
              "\n",
              "    [theme=dark] .colab-df-convert {\n",
              "      background-color: #3B4455;\n",
              "      fill: #D2E3FC;\n",
              "    }\n",
              "\n",
              "    [theme=dark] .colab-df-convert:hover {\n",
              "      background-color: #434B5C;\n",
              "      box-shadow: 0px 1px 3px 1px rgba(0, 0, 0, 0.15);\n",
              "      filter: drop-shadow(0px 1px 2px rgba(0, 0, 0, 0.3));\n",
              "      fill: #FFFFFF;\n",
              "    }\n",
              "  </style>\n",
              "\n",
              "      <script>\n",
              "        const buttonEl =\n",
              "          document.querySelector('#df-e8370d8a-5997-4c26-af27-1efb628fb0da button.colab-df-convert');\n",
              "        buttonEl.style.display =\n",
              "          google.colab.kernel.accessAllowed ? 'block' : 'none';\n",
              "\n",
              "        async function convertToInteractive(key) {\n",
              "          const element = document.querySelector('#df-e8370d8a-5997-4c26-af27-1efb628fb0da');\n",
              "          const dataTable =\n",
              "            await google.colab.kernel.invokeFunction('convertToInteractive',\n",
              "                                                     [key], {});\n",
              "          if (!dataTable) return;\n",
              "\n",
              "          const docLinkHtml = 'Like what you see? Visit the ' +\n",
              "            '<a target=\"_blank\" href=https://colab.research.google.com/notebooks/data_table.ipynb>data table notebook</a>'\n",
              "            + ' to learn more about interactive tables.';\n",
              "          element.innerHTML = '';\n",
              "          dataTable['output_type'] = 'display_data';\n",
              "          await google.colab.output.renderOutput(dataTable, element);\n",
              "          const docLink = document.createElement('div');\n",
              "          docLink.innerHTML = docLinkHtml;\n",
              "          element.appendChild(docLink);\n",
              "        }\n",
              "      </script>\n",
              "    </div>\n",
              "  </div>\n",
              "  "
            ]
          },
          "metadata": {},
          "execution_count": 3
        }
      ]
    },
    {
      "cell_type": "markdown",
      "metadata": {
        "id": "93fc50d4"
      },
      "source": [
        "#### 2.2 ดู Shape ของข้อมูล พบว่า เป็นแบบ 2 Dimensions"
      ],
      "id": "93fc50d4"
    },
    {
      "cell_type": "code",
      "metadata": {
        "id": "c9d1ef69",
        "colab": {
          "base_uri": "https://localhost:8080/"
        },
        "outputId": "2d966c23-c43d-4edd-bfaf-0f1fb338325a"
      },
      "source": [
        "raw_pd.shape"
      ],
      "id": "c9d1ef69",
      "execution_count": null,
      "outputs": [
        {
          "output_type": "execute_result",
          "data": {
            "text/plain": [
              "(47785, 9)"
            ]
          },
          "metadata": {},
          "execution_count": 4
        }
      ]
    },
    {
      "cell_type": "markdown",
      "metadata": {
        "id": "6f546eca"
      },
      "source": [
        "#### 2.3 ดู Data Type ของแต่ละ Attributes"
      ],
      "id": "6f546eca"
    },
    {
      "cell_type": "code",
      "metadata": {
        "id": "63807314",
        "colab": {
          "base_uri": "https://localhost:8080/"
        },
        "outputId": "63f015f4-674e-4565-8048-cbc7c2bc6d48"
      },
      "source": [
        "raw_pd.info()"
      ],
      "id": "63807314",
      "execution_count": null,
      "outputs": [
        {
          "output_type": "stream",
          "name": "stdout",
          "text": [
            "<class 'pandas.core.frame.DataFrame'>\n",
            "RangeIndex: 47785 entries, 0 to 47784\n",
            "Data columns (total 9 columns):\n",
            " #   Column             Non-Null Count  Dtype \n",
            "---  ------             --------------  ----- \n",
            " 0   date               47785 non-null  object\n",
            " 1   airline            47785 non-null  object\n",
            " 2   departure_airport  47785 non-null  object\n",
            " 3   arrival_airport    47785 non-null  object\n",
            " 4   departure_delay    47785 non-null  int64 \n",
            " 5   arrival_delay      47785 non-null  int64 \n",
            " 6   dayofweek          47785 non-null  int64 \n",
            " 7   month              47785 non-null  int64 \n",
            " 8   delayed            47785 non-null  int64 \n",
            "dtypes: int64(5), object(4)\n",
            "memory usage: 3.3+ MB\n"
          ]
        }
      ]
    },
    {
      "cell_type": "markdown",
      "metadata": {
        "id": "d79d8641"
      },
      "source": [
        "#### 2.4 ตรวจสอบค่า Null ในแต่ละ Attributes"
      ],
      "id": "d79d8641"
    },
    {
      "cell_type": "code",
      "metadata": {
        "id": "13001877",
        "colab": {
          "base_uri": "https://localhost:8080/"
        },
        "outputId": "a079cd07-6877-4879-81e7-2bf668491f44"
      },
      "source": [
        "raw_pd.isnull().sum()"
      ],
      "id": "13001877",
      "execution_count": null,
      "outputs": [
        {
          "output_type": "execute_result",
          "data": {
            "text/plain": [
              "date                 0\n",
              "airline              0\n",
              "departure_airport    0\n",
              "arrival_airport      0\n",
              "departure_delay      0\n",
              "arrival_delay        0\n",
              "dayofweek            0\n",
              "month                0\n",
              "delayed              0\n",
              "dtype: int64"
            ]
          },
          "metadata": {},
          "execution_count": 6
        }
      ]
    },
    {
      "cell_type": "code",
      "metadata": {
        "id": "201b9828"
      },
      "source": [
        "# กำหนด Cols ที่ contain NULL แต่ธุรกิจจำเป็นต้องใช้\n",
        "nullNeedCol_list = []\n",
        "## ความจริงคือ ML Algorithm ทุกตัวพิจารณาข้อมูล ถ้าไม่มีข้อมูลก็พิจารณาอะไรไม่ได้ การแทนที่จุดที่ไม่มีข้อมูล (Null Replacement) เป็นสิ่งที่ทำได้\n",
        "## แต่ถ้าจุดที่ไม่มีข้อมูลมันเยอะเกินไป เช่น 80% ของ Col ไม่มีข้อมูลเช่นนี้ ก็คงจะไม่เหมาะที่ใช้ทำ Null Replacement ไม่ว่าด้วยเทคนิคใดๆ ก็ตาม\n",
        "## ดังนั้นเหตุคือ ในหลายๆ กรณีอาจมีการใช้ dropna() เพื่อทิ้งทั้ง row ไปเมื่อ row นั้นมีค่า null อยู่ (มี null อยู่เพียง col ใด col หนึ่ง ก็ทิ้งไปทั้ง col)\n",
        "## ผลที่เกิดขึ้นคือ row จะเหลือน้อยลงกว่าเดิม เพื่อเป็นการหลีกเลี่ยงผลแบบนี้ จึงควรพิจารณาว่า col ใด ที่มีค่า null อยู่เป็นส่วนใหญ่ แล้วก็เลือกที่จะทิ้ง col นั้นไป (แทนการทิ้ง row)\n",
        "## อย่างไรก็ตาม บางกรณีอาจมีบาง col เลือกที่จะเก็บไว้ไม่ลบ จึงต้องมีการระบุชื่อ col ที่ต้องการเก็บไว้ที่ nullNeedCol_list นี้ "
      ],
      "id": "201b9828",
      "execution_count": null,
      "outputs": []
    },
    {
      "cell_type": "markdown",
      "metadata": {
        "id": "aebb0e89"
      },
      "source": [
        "#### **2.5 EDA with Frequency Distribution** เพื่อดู Bias เนื่องจาก (1) โมเดลที่ได้รับมา จะเป็นโมเดลที่เหมาะกับข้อมูล Distribution แบบนี้เท่านั้น เช่น ถ้าพบว่า ข้อมูลที่นำมาสร้างมาโมเดลเป็นข้อมูลจากเดือนๆ เพียงเดือนเดียว ความสามารถของโมเดลก็อยู่ในขอบเขตของเดือนเดียวนั้นเท่านั้น เป็นต้น (2) หากพบว่า ธุรกิจเกี่ยวข้องกับข้อมูลที่มี Distribution แตกต่างจาก Distribution ตาม (1) อย่างมาก ธุรกิจก็ควรที่จะ retrain model ด้วยข้อมูลที่มี Distribution ใหม่ๆ (3) Higher Variance ทำให้ต้องสงสัยว่ามี Outlier มากขึ้น ซึ่งหากนี้ Outlier ส่งผลต่อ Divide-and-Conquer => แก้โดย remove หรือ bucketization (4) Highest Variance ทำให้ต้องสงสัยว่ามี Dispersion มากที่สุด ซึ่ง Dispersion ส่งผลต่อการคำนวณเชิงระยะทาง หรือ cost functions"
      ],
      "id": "aebb0e89"
    },
    {
      "cell_type": "code",
      "metadata": {
        "id": "151c220b",
        "colab": {
          "base_uri": "https://localhost:8080/"
        },
        "outputId": "5e95b8f0-291a-497f-da67-728ef794dbe1"
      },
      "source": [
        "# Define categorical columns\n",
        "categorical_list = list(raw_pd.select_dtypes('object').columns)\n",
        "print(f\"Categorical columns are: {categorical_list}\")\n",
        "\n",
        "# Define numerical columns\n",
        "numerical_list = list(raw_pd.select_dtypes('number').columns)\n",
        "print(f\"Numerical columns are: {numerical_list}\")"
      ],
      "id": "151c220b",
      "execution_count": null,
      "outputs": [
        {
          "output_type": "stream",
          "name": "stdout",
          "text": [
            "Categorical columns are: ['date', 'airline', 'departure_airport', 'arrival_airport']\n",
            "Numerical columns are: ['departure_delay', 'arrival_delay', 'dayofweek', 'month', 'delayed']\n"
          ]
        }
      ]
    },
    {
      "cell_type": "markdown",
      "metadata": {
        "id": "86ec3de5"
      },
      "source": [
        "#### 2.6 EDA with Frequency Distribution of Categorical Values"
      ],
      "id": "86ec3de5"
    },
    {
      "cell_type": "code",
      "metadata": {
        "id": "2886f625",
        "colab": {
          "base_uri": "https://localhost:8080/"
        },
        "outputId": "743ec529-9012-4474-c48d-56c58b36f99c"
      },
      "source": [
        "for item_cat in categorical_list:\n",
        "    print(raw_pd.groupby(item_cat).agg({item_cat:'count'})\\\n",
        "          .apply(lambda x:100 * x / float(x.sum()))\\\n",
        "    .apply(lambda x: x.sort_values(ascending=False)))"
      ],
      "id": "2886f625",
      "execution_count": null,
      "outputs": [
        {
          "output_type": "stream",
          "name": "stdout",
          "text": [
            "                date\n",
            "date                \n",
            "2009-12-21  0.585958\n",
            "2009-06-12  0.514806\n",
            "2009-06-11  0.512713\n",
            "2009-06-15  0.504342\n",
            "2009-02-13  0.502250\n",
            "...              ...\n",
            "2009-09-06  0.106728\n",
            "2009-01-13  0.098357\n",
            "2009-01-21  0.098357\n",
            "2009-03-07  0.096265\n",
            "2009-11-26  0.069059\n",
            "\n",
            "[365 rows x 1 columns]\n",
            "           airline\n",
            "airline           \n",
            "OO       29.011196\n",
            "UA       25.150152\n",
            "WN       16.352412\n",
            "AA        8.452443\n",
            "CO        4.986921\n",
            "US        3.515748\n",
            "DL        2.913048\n",
            "AS        2.766559\n",
            "NW        2.396149\n",
            "B6        1.383279\n",
            "F9        1.002407\n",
            "MQ        0.922884\n",
            "FL        0.858010\n",
            "HA        0.276237\n",
            "YV        0.012556\n",
            "                   departure_airport\n",
            "departure_airport                   \n",
            "SFO                            100.0\n",
            "                 arrival_airport\n",
            "arrival_airport                 \n",
            "LAX                     8.873077\n",
            "SAN                     5.258972\n",
            "LAS                     4.997384\n",
            "DEN                     4.572565\n",
            "ORD                     4.133096\n",
            "...                          ...\n",
            "MCI                     0.071152\n",
            "FLL                     0.069059\n",
            "ASE                     0.058596\n",
            "ANC                     0.052318\n",
            "BZN                     0.031391\n",
            "\n",
            "[69 rows x 1 columns]\n"
          ]
        }
      ]
    },
    {
      "cell_type": "code",
      "metadata": {
        "id": "37368088",
        "colab": {
          "base_uri": "https://localhost:8080/"
        },
        "outputId": "e42c13b5-e79a-4a8e-acc8-37e0dcb24944"
      },
      "source": [
        "for item_cat in categorical_list:\n",
        "    print(raw_pd[item_cat].value_counts())"
      ],
      "id": "37368088",
      "execution_count": null,
      "outputs": [
        {
          "output_type": "stream",
          "name": "stdout",
          "text": [
            "2009-12-21    280\n",
            "2009-06-12    246\n",
            "2009-06-11    245\n",
            "2009-06-15    241\n",
            "2009-02-13    240\n",
            "             ... \n",
            "2009-09-06     51\n",
            "2009-01-13     47\n",
            "2009-01-21     47\n",
            "2009-03-07     46\n",
            "2009-11-26     33\n",
            "Name: date, Length: 365, dtype: int64\n",
            "OO    13863\n",
            "UA    12018\n",
            "WN     7814\n",
            "AA     4039\n",
            "CO     2383\n",
            "US     1680\n",
            "DL     1392\n",
            "AS     1322\n",
            "NW     1145\n",
            "B6      661\n",
            "F9      479\n",
            "MQ      441\n",
            "FL      410\n",
            "HA      132\n",
            "YV        6\n",
            "Name: airline, dtype: int64\n",
            "SFO    47785\n",
            "Name: departure_airport, dtype: int64\n",
            "LAX    4240\n",
            "SAN    2513\n",
            "LAS    2388\n",
            "DEN    2185\n",
            "ORD    1975\n",
            "       ... \n",
            "MCI      34\n",
            "FLL      33\n",
            "ASE      28\n",
            "ANC      25\n",
            "BZN      15\n",
            "Name: arrival_airport, Length: 69, dtype: int64\n"
          ]
        }
      ]
    },
    {
      "cell_type": "markdown",
      "metadata": {
        "id": "5990ca38"
      },
      "source": [
        "#### 2.7 EDA with Frequency Distribution of Numerical Values"
      ],
      "id": "5990ca38"
    },
    {
      "cell_type": "code",
      "metadata": {
        "id": "7f5201d4",
        "colab": {
          "base_uri": "https://localhost:8080/"
        },
        "outputId": "eb21ecb8-e7a7-4de9-9b8c-1fa4d195fd70"
      },
      "source": [
        "for item_num in numerical_list:\n",
        "    print(raw_pd.groupby(item_num).agg({item_num:'count'})\\\n",
        "          .apply(lambda x:100 * x / float(x.sum()))\\\n",
        "    .apply(lambda x: x.sort_values(ascending=False)))"
      ],
      "id": "7f5201d4",
      "execution_count": null,
      "outputs": [
        {
          "output_type": "stream",
          "name": "stdout",
          "text": [
            "                 departure_delay\n",
            "departure_delay                 \n",
            "1                       7.707440\n",
            "2                       6.039552\n",
            "3                       4.857173\n",
            "4                       4.444909\n",
            "5                       3.764780\n",
            "...                          ...\n",
            "115                     0.142304\n",
            "107                     0.142304\n",
            "117                     0.138119\n",
            "120                     0.127655\n",
            "119                     0.110913\n",
            "\n",
            "[120 rows x 1 columns]\n",
            "               arrival_delay\n",
            "arrival_delay               \n",
            " 0                  2.080151\n",
            "-2                  2.071780\n",
            "-1                  2.071780\n",
            " 1                  2.067594\n",
            " 2                  2.063409\n",
            "...                      ...\n",
            "-57                 0.002093\n",
            "-50                 0.002093\n",
            "-54                 0.002093\n",
            "-56                 0.002093\n",
            " 189                0.002093\n",
            "\n",
            "[221 rows x 1 columns]\n",
            "           dayofweek\n",
            "dayofweek           \n",
            "6          15.877367\n",
            "1          15.605315\n",
            "5          15.552998\n",
            "2          15.132364\n",
            "4          13.462384\n",
            "3          12.572983\n",
            "7          11.796589\n",
            "           month\n",
            "month           \n",
            "12     10.204039\n",
            "6      10.105682\n",
            "10      9.622266\n",
            "7       9.544836\n",
            "8       9.471592\n",
            "5       8.485927\n",
            "3       7.732552\n",
            "2       7.638380\n",
            "1       7.523281\n",
            "4       7.301454\n",
            "9       6.589934\n",
            "11      5.780057\n",
            "          delayed\n",
            "delayed          \n",
            "0        52.28419\n",
            "1        47.71581\n"
          ]
        }
      ]
    },
    {
      "cell_type": "code",
      "metadata": {
        "id": "482ebf4f",
        "colab": {
          "base_uri": "https://localhost:8080/",
          "height": 641
        },
        "outputId": "59d6b954-6e52-40f7-f38b-aa40d0365bdd"
      },
      "source": [
        "raw_pd.hist(bins=100, figsize=(20,15))\n",
        "plt.show()"
      ],
      "id": "482ebf4f",
      "execution_count": null,
      "outputs": [
        {
          "output_type": "display_data",
          "data": {
            "text/plain": [
              "<Figure size 1440x1080 with 6 Axes>"
            ],
            "image/png": "[encoded data removed]"
          },
          "metadata": {
            "needs_background": "light"
          }
        }
      ]
    },
    {
      "cell_type": "markdown",
      "metadata": {
        "id": "f4258db4"
      },
      "source": [
        "#### 2.8 EDA with Basic Stats. เพื่อดู Dispersion ของข้อมูล"
      ],
      "id": "f4258db4"
    },
    {
      "cell_type": "code",
      "metadata": {
        "id": "4326846d",
        "colab": {
          "base_uri": "https://localhost:8080/",
          "height": 300
        },
        "outputId": "81b9c5ad-775e-40de-98f4-772e1d3b070a"
      },
      "source": [
        "raw_pd.describe()"
      ],
      "id": "4326846d",
      "execution_count": null,
      "outputs": [
        {
          "output_type": "execute_result",
          "data": {
            "text/plain": [
              "       departure_delay  arrival_delay     dayofweek         month  \\\n",
              "count     47785.000000   47785.000000  47785.000000  47785.000000   \n",
              "mean         27.721147      22.218269      3.930438      6.624150   \n",
              "std          29.436796      31.939881      1.995762      3.392922   \n",
              "min           1.000000     -65.000000      1.000000      1.000000   \n",
              "25%           5.000000      -1.000000      2.000000      4.000000   \n",
              "50%          16.000000      13.000000      4.000000      7.000000   \n",
              "75%          42.000000      38.000000      6.000000     10.000000   \n",
              "max         120.000000     189.000000      7.000000     12.000000   \n",
              "\n",
              "            delayed  \n",
              "count  47785.000000  \n",
              "mean       0.477158  \n",
              "std        0.499483  \n",
              "min        0.000000  \n",
              "25%        0.000000  \n",
              "50%        0.000000  \n",
              "75%        1.000000  \n",
              "max        1.000000  "
            ],
            "text/html": [
              "\n",
              "  <div id=\"df-aa7d41b1-dd66-4654-a647-e6af16b019a0\">\n",
              "    <div class=\"colab-df-container\">\n",
              "      <div>\n",
              "<style scoped>\n",
              "    .dataframe tbody tr th:only-of-type {\n",
              "        vertical-align: middle;\n",
              "    }\n",
              "\n",
              "    .dataframe tbody tr th {\n",
              "        vertical-align: top;\n",
              "    }\n",
              "\n",
              "    .dataframe thead th {\n",
              "        text-align: right;\n",
              "    }\n",
              "</style>\n",
              "<table border=\"1\" class=\"dataframe\">\n",
              "  <thead>\n",
              "    <tr style=\"text-align: right;\">\n",
              "      <th></th>\n",
              "      <th>departure_delay</th>\n",
              "      <th>arrival_delay</th>\n",
              "      <th>dayofweek</th>\n",
              "      <th>month</th>\n",
              "      <th>delayed</th>\n",
              "    </tr>\n",
              "  </thead>\n",
              "  <tbody>\n",
              "    <tr>\n",
              "      <th>count</th>\n",
              "      <td>47785.000000</td>\n",
              "      <td>47785.000000</td>\n",
              "      <td>47785.000000</td>\n",
              "      <td>47785.000000</td>\n",
              "      <td>47785.000000</td>\n",
              "    </tr>\n",
              "    <tr>\n",
              "      <th>mean</th>\n",
              "      <td>27.721147</td>\n",
              "      <td>22.218269</td>\n",
              "      <td>3.930438</td>\n",
              "      <td>6.624150</td>\n",
              "      <td>0.477158</td>\n",
              "    </tr>\n",
              "    <tr>\n",
              "      <th>std</th>\n",
              "      <td>29.436796</td>\n",
              "      <td>31.939881</td>\n",
              "      <td>1.995762</td>\n",
              "      <td>3.392922</td>\n",
              "      <td>0.499483</td>\n",
              "    </tr>\n",
              "    <tr>\n",
              "      <th>min</th>\n",
              "      <td>1.000000</td>\n",
              "      <td>-65.000000</td>\n",
              "      <td>1.000000</td>\n",
              "      <td>1.000000</td>\n",
              "      <td>0.000000</td>\n",
              "    </tr>\n",
              "    <tr>\n",
              "      <th>25%</th>\n",
              "      <td>5.000000</td>\n",
              "      <td>-1.000000</td>\n",
              "      <td>2.000000</td>\n",
              "      <td>4.000000</td>\n",
              "      <td>0.000000</td>\n",
              "    </tr>\n",
              "    <tr>\n",
              "      <th>50%</th>\n",
              "      <td>16.000000</td>\n",
              "      <td>13.000000</td>\n",
              "      <td>4.000000</td>\n",
              "      <td>7.000000</td>\n",
              "      <td>0.000000</td>\n",
              "    </tr>\n",
              "    <tr>\n",
              "      <th>75%</th>\n",
              "      <td>42.000000</td>\n",
              "      <td>38.000000</td>\n",
              "      <td>6.000000</td>\n",
              "      <td>10.000000</td>\n",
              "      <td>1.000000</td>\n",
              "    </tr>\n",
              "    <tr>\n",
              "      <th>max</th>\n",
              "      <td>120.000000</td>\n",
              "      <td>189.000000</td>\n",
              "      <td>7.000000</td>\n",
              "      <td>12.000000</td>\n",
              "      <td>1.000000</td>\n",
              "    </tr>\n",
              "  </tbody>\n",
              "</table>\n",
              "</div>\n",
              "      <button class=\"colab-df-convert\" onclick=\"convertToInteractive('df-aa7d41b1-dd66-4654-a647-e6af16b019a0')\"\n",
              "              title=\"Convert this dataframe to an interactive table.\"\n",
              "              style=\"display:none;\">\n",
              "        \n",
              "  <svg xmlns=\"http://www.w3.org/2000/svg\" height=\"24px\"viewBox=\"0 0 24 24\"\n",
              "       width=\"24px\">\n",
              "    <path d=\"M0 0h24v24H0V0z\" fill=\"none\"/>\n",
              "    <path d=\"M18.56 5.44l.94 2.06.94-2.06 2.06-.94-2.06-.94-.94-2.06-.94 2.06-2.06.94zm-11 1L8.5 8.5l.94-2.06 2.06-.94-2.06-.94L8.5 2.5l-.94 2.06-2.06.94zm10 10l.94 2.06.94-2.06 2.06-.94-2.06-.94-.94-2.06-.94 2.06-2.06.94z\"/><path d=\"M17.41 7.96l-1.37-1.37c-.4-.4-.92-.59-1.43-.59-.52 0-1.04.2-1.43.59L10.3 9.45l-7.72 7.72c-.78.78-.78 2.05 0 2.83L4 21.41c.39.39.9.59 1.41.59.51 0 1.02-.2 1.41-.59l7.78-7.78 2.81-2.81c.8-.78.8-2.07 0-2.86zM5.41 20L4 18.59l7.72-7.72 1.47 1.35L5.41 20z\"/>\n",
              "  </svg>\n",
              "      </button>\n",
              "      \n",
              "  <style>\n",
              "    .colab-df-container {\n",
              "      display:flex;\n",
              "      flex-wrap:wrap;\n",
              "      gap: 12px;\n",
              "    }\n",
              "\n",
              "    .colab-df-convert {\n",
              "      background-color: #E8F0FE;\n",
              "      border: none;\n",
              "      border-radius: 50%;\n",
              "      cursor: pointer;\n",
              "      display: none;\n",
              "      fill: #1967D2;\n",
              "      height: 32px;\n",
              "      padding: 0 0 0 0;\n",
              "      width: 32px;\n",
              "    }\n",
              "\n",
              "    .colab-df-convert:hover {\n",
              "      background-color: #E2EBFA;\n",
              "      box-shadow: 0px 1px 2px rgba(60, 64, 67, 0.3), 0px 1px 3px 1px rgba(60, 64, 67, 0.15);\n",
              "      fill: #174EA6;\n",
              "    }\n",
              "\n",
              "    [theme=dark] .colab-df-convert {\n",
              "      background-color: #3B4455;\n",
              "      fill: #D2E3FC;\n",
              "    }\n",
              "\n",
              "    [theme=dark] .colab-df-convert:hover {\n",
              "      background-color: #434B5C;\n",
              "      box-shadow: 0px 1px 3px 1px rgba(0, 0, 0, 0.15);\n",
              "      filter: drop-shadow(0px 1px 2px rgba(0, 0, 0, 0.3));\n",
              "      fill: #FFFFFF;\n",
              "    }\n",
              "  </style>\n",
              "\n",
              "      <script>\n",
              "        const buttonEl =\n",
              "          document.querySelector('#df-aa7d41b1-dd66-4654-a647-e6af16b019a0 button.colab-df-convert');\n",
              "        buttonEl.style.display =\n",
              "          google.colab.kernel.accessAllowed ? 'block' : 'none';\n",
              "\n",
              "        async function convertToInteractive(key) {\n",
              "          const element = document.querySelector('#df-aa7d41b1-dd66-4654-a647-e6af16b019a0');\n",
              "          const dataTable =\n",
              "            await google.colab.kernel.invokeFunction('convertToInteractive',\n",
              "                                                     [key], {});\n",
              "          if (!dataTable) return;\n",
              "\n",
              "          const docLinkHtml = 'Like what you see? Visit the ' +\n",
              "            '<a target=\"_blank\" href=https://colab.research.google.com/notebooks/data_table.ipynb>data table notebook</a>'\n",
              "            + ' to learn more about interactive tables.';\n",
              "          element.innerHTML = '';\n",
              "          dataTable['output_type'] = 'display_data';\n",
              "          await google.colab.output.renderOutput(dataTable, element);\n",
              "          const docLink = document.createElement('div');\n",
              "          docLink.innerHTML = docLinkHtml;\n",
              "          element.appendChild(docLink);\n",
              "        }\n",
              "      </script>\n",
              "    </div>\n",
              "  </div>\n",
              "  "
            ]
          },
          "metadata": {},
          "execution_count": 13
        }
      ]
    },
    {
      "cell_type": "markdown",
      "metadata": {
        "id": "8bfcb89c"
      },
      "source": [
        "#### 2.9 กำหนด Candidated Features"
      ],
      "id": "8bfcb89c"
    },
    {
      "cell_type": "code",
      "metadata": {
        "id": "e8f9ae17"
      },
      "source": [
        "noNullCol_list = []"
      ],
      "id": "e8f9ae17",
      "execution_count": null,
      "outputs": []
    },
    {
      "cell_type": "code",
      "metadata": {
        "id": "5da2c2e2"
      },
      "source": [
        "# เลือก column ที่ไม่มี null เท่านั้น\n",
        "for item_col in raw_pd.columns.to_list():\n",
        "    if raw_pd[item_col].isnull().sum() == 0:\n",
        "        noNullCol_list.append(item_col)\n",
        "        "
      ],
      "id": "5da2c2e2",
      "execution_count": null,
      "outputs": []
    },
    {
      "cell_type": "code",
      "metadata": {
        "id": "27a5335d",
        "colab": {
          "base_uri": "https://localhost:8080/"
        },
        "outputId": "79235df6-c5d8-4a73-9adc-66df8a495323"
      },
      "source": [
        "noNullCol_list"
      ],
      "id": "27a5335d",
      "execution_count": null,
      "outputs": [
        {
          "output_type": "execute_result",
          "data": {
            "text/plain": [
              "['date',\n",
              " 'airline',\n",
              " 'departure_airport',\n",
              " 'arrival_airport',\n",
              " 'departure_delay',\n",
              " 'arrival_delay',\n",
              " 'dayofweek',\n",
              " 'month',\n",
              " 'delayed']"
            ]
          },
          "metadata": {},
          "execution_count": 16
        }
      ]
    },
    {
      "cell_type": "code",
      "metadata": {
        "id": "a7aac283"
      },
      "source": [
        "candidatedFeatures_list = noNullCol_list+nullNeedCol_list"
      ],
      "id": "a7aac283",
      "execution_count": null,
      "outputs": []
    },
    {
      "cell_type": "code",
      "source": [
        "raw_pd.groupby(['departure_airport','delayed']).size()"
      ],
      "metadata": {
        "colab": {
          "base_uri": "https://localhost:8080/"
        },
        "id": "MjwD7c2YrEOB",
        "outputId": "f3012fae-1f71-469d-eafe-76b7f926b1b8"
      },
      "id": "MjwD7c2YrEOB",
      "execution_count": null,
      "outputs": [
        {
          "output_type": "execute_result",
          "data": {
            "text/plain": [
              "departure_airport  delayed\n",
              "SFO                0          24984\n",
              "                   1          22801\n",
              "dtype: int64"
            ]
          },
          "metadata": {},
          "execution_count": 18
        }
      ]
    },
    {
      "cell_type": "code",
      "source": [
        "pd.DataFrame(raw_pd.groupby(['date','delayed']).size().sort_values(ascending=False))"
      ],
      "metadata": {
        "colab": {
          "base_uri": "https://localhost:8080/",
          "height": 455
        },
        "id": "8qinYv-DsAar",
        "outputId": "60581e3b-51e7-4af3-8678-f7ff547df833"
      },
      "id": "8qinYv-DsAar",
      "execution_count": null,
      "outputs": [
        {
          "output_type": "execute_result",
          "data": {
            "text/plain": [
              "                      0\n",
              "date       delayed     \n",
              "2009-06-11 1        175\n",
              "2009-06-07 1        173\n",
              "2009-12-21 1        160\n",
              "2009-02-16 1        160\n",
              "2009-01-05 1        157\n",
              "...                 ...\n",
              "2009-09-06 1         14\n",
              "2009-11-28 1         13\n",
              "2009-11-07 1         13\n",
              "2009-11-26 1          8\n",
              "2009-11-24 1          4\n",
              "\n",
              "[730 rows x 1 columns]"
            ],
            "text/html": [
              "\n",
              "  <div id=\"df-c8d4d6fb-f5ed-46a9-b925-d1a8bc05a0e9\">\n",
              "    <div class=\"colab-df-container\">\n",
              "      <div>\n",
              "<style scoped>\n",
              "    .dataframe tbody tr th:only-of-type {\n",
              "        vertical-align: middle;\n",
              "    }\n",
              "\n",
              "    .dataframe tbody tr th {\n",
              "        vertical-align: top;\n",
              "    }\n",
              "\n",
              "    .dataframe thead th {\n",
              "        text-align: right;\n",
              "    }\n",
              "</style>\n",
              "<table border=\"1\" class=\"dataframe\">\n",
              "  <thead>\n",
              "    <tr style=\"text-align: right;\">\n",
              "      <th></th>\n",
              "      <th></th>\n",
              "      <th>0</th>\n",
              "    </tr>\n",
              "    <tr>\n",
              "      <th>date</th>\n",
              "      <th>delayed</th>\n",
              "      <th></th>\n",
              "    </tr>\n",
              "  </thead>\n",
              "  <tbody>\n",
              "    <tr>\n",
              "      <th>2009-06-11</th>\n",
              "      <th>1</th>\n",
              "      <td>175</td>\n",
              "    </tr>\n",
              "    <tr>\n",
              "      <th>2009-06-07</th>\n",
              "      <th>1</th>\n",
              "      <td>173</td>\n",
              "    </tr>\n",
              "    <tr>\n",
              "      <th>2009-12-21</th>\n",
              "      <th>1</th>\n",
              "      <td>160</td>\n",
              "    </tr>\n",
              "    <tr>\n",
              "      <th>2009-02-16</th>\n",
              "      <th>1</th>\n",
              "      <td>160</td>\n",
              "    </tr>\n",
              "    <tr>\n",
              "      <th>2009-01-05</th>\n",
              "      <th>1</th>\n",
              "      <td>157</td>\n",
              "    </tr>\n",
              "    <tr>\n",
              "      <th>...</th>\n",
              "      <th>...</th>\n",
              "      <td>...</td>\n",
              "    </tr>\n",
              "    <tr>\n",
              "      <th>2009-09-06</th>\n",
              "      <th>1</th>\n",
              "      <td>14</td>\n",
              "    </tr>\n",
              "    <tr>\n",
              "      <th>2009-11-28</th>\n",
              "      <th>1</th>\n",
              "      <td>13</td>\n",
              "    </tr>\n",
              "    <tr>\n",
              "      <th>2009-11-07</th>\n",
              "      <th>1</th>\n",
              "      <td>13</td>\n",
              "    </tr>\n",
              "    <tr>\n",
              "      <th>2009-11-26</th>\n",
              "      <th>1</th>\n",
              "      <td>8</td>\n",
              "    </tr>\n",
              "    <tr>\n",
              "      <th>2009-11-24</th>\n",
              "      <th>1</th>\n",
              "      <td>4</td>\n",
              "    </tr>\n",
              "  </tbody>\n",
              "</table>\n",
              "<p>730 rows × 1 columns</p>\n",
              "</div>\n",
              "      <button class=\"colab-df-convert\" onclick=\"convertToInteractive('df-c8d4d6fb-f5ed-46a9-b925-d1a8bc05a0e9')\"\n",
              "              title=\"Convert this dataframe to an interactive table.\"\n",
              "              style=\"display:none;\">\n",
              "        \n",
              "  <svg xmlns=\"http://www.w3.org/2000/svg\" height=\"24px\"viewBox=\"0 0 24 24\"\n",
              "       width=\"24px\">\n",
              "    <path d=\"M0 0h24v24H0V0z\" fill=\"none\"/>\n",
              "    <path d=\"M18.56 5.44l.94 2.06.94-2.06 2.06-.94-2.06-.94-.94-2.06-.94 2.06-2.06.94zm-11 1L8.5 8.5l.94-2.06 2.06-.94-2.06-.94L8.5 2.5l-.94 2.06-2.06.94zm10 10l.94 2.06.94-2.06 2.06-.94-2.06-.94-.94-2.06-.94 2.06-2.06.94z\"/><path d=\"M17.41 7.96l-1.37-1.37c-.4-.4-.92-.59-1.43-.59-.52 0-1.04.2-1.43.59L10.3 9.45l-7.72 7.72c-.78.78-.78 2.05 0 2.83L4 21.41c.39.39.9.59 1.41.59.51 0 1.02-.2 1.41-.59l7.78-7.78 2.81-2.81c.8-.78.8-2.07 0-2.86zM5.41 20L4 18.59l7.72-7.72 1.47 1.35L5.41 20z\"/>\n",
              "  </svg>\n",
              "      </button>\n",
              "      \n",
              "  <style>\n",
              "    .colab-df-container {\n",
              "      display:flex;\n",
              "      flex-wrap:wrap;\n",
              "      gap: 12px;\n",
              "    }\n",
              "\n",
              "    .colab-df-convert {\n",
              "      background-color: #E8F0FE;\n",
              "      border: none;\n",
              "      border-radius: 50%;\n",
              "      cursor: pointer;\n",
              "      display: none;\n",
              "      fill: #1967D2;\n",
              "      height: 32px;\n",
              "      padding: 0 0 0 0;\n",
              "      width: 32px;\n",
              "    }\n",
              "\n",
              "    .colab-df-convert:hover {\n",
              "      background-color: #E2EBFA;\n",
              "      box-shadow: 0px 1px 2px rgba(60, 64, 67, 0.3), 0px 1px 3px 1px rgba(60, 64, 67, 0.15);\n",
              "      fill: #174EA6;\n",
              "    }\n",
              "\n",
              "    [theme=dark] .colab-df-convert {\n",
              "      background-color: #3B4455;\n",
              "      fill: #D2E3FC;\n",
              "    }\n",
              "\n",
              "    [theme=dark] .colab-df-convert:hover {\n",
              "      background-color: #434B5C;\n",
              "      box-shadow: 0px 1px 3px 1px rgba(0, 0, 0, 0.15);\n",
              "      filter: drop-shadow(0px 1px 2px rgba(0, 0, 0, 0.3));\n",
              "      fill: #FFFFFF;\n",
              "    }\n",
              "  </style>\n",
              "\n",
              "      <script>\n",
              "        const buttonEl =\n",
              "          document.querySelector('#df-c8d4d6fb-f5ed-46a9-b925-d1a8bc05a0e9 button.colab-df-convert');\n",
              "        buttonEl.style.display =\n",
              "          google.colab.kernel.accessAllowed ? 'block' : 'none';\n",
              "\n",
              "        async function convertToInteractive(key) {\n",
              "          const element = document.querySelector('#df-c8d4d6fb-f5ed-46a9-b925-d1a8bc05a0e9');\n",
              "          const dataTable =\n",
              "            await google.colab.kernel.invokeFunction('convertToInteractive',\n",
              "                                                     [key], {});\n",
              "          if (!dataTable) return;\n",
              "\n",
              "          const docLinkHtml = 'Like what you see? Visit the ' +\n",
              "            '<a target=\"_blank\" href=https://colab.research.google.com/notebooks/data_table.ipynb>data table notebook</a>'\n",
              "            + ' to learn more about interactive tables.';\n",
              "          element.innerHTML = '';\n",
              "          dataTable['output_type'] = 'display_data';\n",
              "          await google.colab.output.renderOutput(dataTable, element);\n",
              "          const docLink = document.createElement('div');\n",
              "          docLink.innerHTML = docLinkHtml;\n",
              "          element.appendChild(docLink);\n",
              "        }\n",
              "      </script>\n",
              "    </div>\n",
              "  </div>\n",
              "  "
            ]
          },
          "metadata": {},
          "execution_count": 58
        }
      ]
    },
    {
      "cell_type": "code",
      "source": [
        "raw_pd.groupby(['dayofweek','delayed']).size().sort_values(ascending=False)"
      ],
      "metadata": {
        "colab": {
          "base_uri": "https://localhost:8080/"
        },
        "id": "ldKwD24DseLo",
        "outputId": "96a6c904-92fe-400f-f1d6-96821e62b768"
      },
      "id": "ldKwD24DseLo",
      "execution_count": null,
      "outputs": [
        {
          "output_type": "execute_result",
          "data": {
            "text/plain": [
              "dayofweek  delayed\n",
              "5          0          3882\n",
              "2          0          3870\n",
              "6          1          3848\n",
              "1          1          3744\n",
              "6          0          3739\n",
              "1          0          3713\n",
              "5          1          3550\n",
              "4          0          3383\n",
              "2          1          3361\n",
              "3          0          3314\n",
              "7          0          3083\n",
              "4          1          3050\n",
              "3          1          2694\n",
              "7          1          2554\n",
              "dtype: int64"
            ]
          },
          "metadata": {},
          "execution_count": 60
        }
      ]
    },
    {
      "cell_type": "code",
      "source": [
        "pd.DataFrame(raw_pd.groupby(['dayofweek','delayed']).size().sort_values(ascending=False))"
      ],
      "metadata": {
        "id": "9XB1g_WRseIx",
        "colab": {
          "base_uri": "https://localhost:8080/",
          "height": 520
        },
        "outputId": "21de2ca7-40c0-49c8-f645-ef35a7e3bc87"
      },
      "id": "9XB1g_WRseIx",
      "execution_count": null,
      "outputs": [
        {
          "output_type": "execute_result",
          "data": {
            "text/plain": [
              "                      0\n",
              "dayofweek delayed      \n",
              "5         0        3882\n",
              "2         0        3870\n",
              "6         1        3848\n",
              "1         1        3744\n",
              "6         0        3739\n",
              "1         0        3713\n",
              "5         1        3550\n",
              "4         0        3383\n",
              "2         1        3361\n",
              "3         0        3314\n",
              "7         0        3083\n",
              "4         1        3050\n",
              "3         1        2694\n",
              "7         1        2554"
            ],
            "text/html": [
              "\n",
              "  <div id=\"df-d8b0709a-a040-48e2-9f1c-19d35822249a\">\n",
              "    <div class=\"colab-df-container\">\n",
              "      <div>\n",
              "<style scoped>\n",
              "    .dataframe tbody tr th:only-of-type {\n",
              "        vertical-align: middle;\n",
              "    }\n",
              "\n",
              "    .dataframe tbody tr th {\n",
              "        vertical-align: top;\n",
              "    }\n",
              "\n",
              "    .dataframe thead th {\n",
              "        text-align: right;\n",
              "    }\n",
              "</style>\n",
              "<table border=\"1\" class=\"dataframe\">\n",
              "  <thead>\n",
              "    <tr style=\"text-align: right;\">\n",
              "      <th></th>\n",
              "      <th></th>\n",
              "      <th>0</th>\n",
              "    </tr>\n",
              "    <tr>\n",
              "      <th>dayofweek</th>\n",
              "      <th>delayed</th>\n",
              "      <th></th>\n",
              "    </tr>\n",
              "  </thead>\n",
              "  <tbody>\n",
              "    <tr>\n",
              "      <th>5</th>\n",
              "      <th>0</th>\n",
              "      <td>3882</td>\n",
              "    </tr>\n",
              "    <tr>\n",
              "      <th>2</th>\n",
              "      <th>0</th>\n",
              "      <td>3870</td>\n",
              "    </tr>\n",
              "    <tr>\n",
              "      <th>6</th>\n",
              "      <th>1</th>\n",
              "      <td>3848</td>\n",
              "    </tr>\n",
              "    <tr>\n",
              "      <th>1</th>\n",
              "      <th>1</th>\n",
              "      <td>3744</td>\n",
              "    </tr>\n",
              "    <tr>\n",
              "      <th>6</th>\n",
              "      <th>0</th>\n",
              "      <td>3739</td>\n",
              "    </tr>\n",
              "    <tr>\n",
              "      <th>1</th>\n",
              "      <th>0</th>\n",
              "      <td>3713</td>\n",
              "    </tr>\n",
              "    <tr>\n",
              "      <th>5</th>\n",
              "      <th>1</th>\n",
              "      <td>3550</td>\n",
              "    </tr>\n",
              "    <tr>\n",
              "      <th>4</th>\n",
              "      <th>0</th>\n",
              "      <td>3383</td>\n",
              "    </tr>\n",
              "    <tr>\n",
              "      <th>2</th>\n",
              "      <th>1</th>\n",
              "      <td>3361</td>\n",
              "    </tr>\n",
              "    <tr>\n",
              "      <th>3</th>\n",
              "      <th>0</th>\n",
              "      <td>3314</td>\n",
              "    </tr>\n",
              "    <tr>\n",
              "      <th>7</th>\n",
              "      <th>0</th>\n",
              "      <td>3083</td>\n",
              "    </tr>\n",
              "    <tr>\n",
              "      <th>4</th>\n",
              "      <th>1</th>\n",
              "      <td>3050</td>\n",
              "    </tr>\n",
              "    <tr>\n",
              "      <th>3</th>\n",
              "      <th>1</th>\n",
              "      <td>2694</td>\n",
              "    </tr>\n",
              "    <tr>\n",
              "      <th>7</th>\n",
              "      <th>1</th>\n",
              "      <td>2554</td>\n",
              "    </tr>\n",
              "  </tbody>\n",
              "</table>\n",
              "</div>\n",
              "      <button class=\"colab-df-convert\" onclick=\"convertToInteractive('df-d8b0709a-a040-48e2-9f1c-19d35822249a')\"\n",
              "              title=\"Convert this dataframe to an interactive table.\"\n",
              "              style=\"display:none;\">\n",
              "        \n",
              "  <svg xmlns=\"http://www.w3.org/2000/svg\" height=\"24px\"viewBox=\"0 0 24 24\"\n",
              "       width=\"24px\">\n",
              "    <path d=\"M0 0h24v24H0V0z\" fill=\"none\"/>\n",
              "    <path d=\"M18.56 5.44l.94 2.06.94-2.06 2.06-.94-2.06-.94-.94-2.06-.94 2.06-2.06.94zm-11 1L8.5 8.5l.94-2.06 2.06-.94-2.06-.94L8.5 2.5l-.94 2.06-2.06.94zm10 10l.94 2.06.94-2.06 2.06-.94-2.06-.94-.94-2.06-.94 2.06-2.06.94z\"/><path d=\"M17.41 7.96l-1.37-1.37c-.4-.4-.92-.59-1.43-.59-.52 0-1.04.2-1.43.59L10.3 9.45l-7.72 7.72c-.78.78-.78 2.05 0 2.83L4 21.41c.39.39.9.59 1.41.59.51 0 1.02-.2 1.41-.59l7.78-7.78 2.81-2.81c.8-.78.8-2.07 0-2.86zM5.41 20L4 18.59l7.72-7.72 1.47 1.35L5.41 20z\"/>\n",
              "  </svg>\n",
              "      </button>\n",
              "      \n",
              "  <style>\n",
              "    .colab-df-container {\n",
              "      display:flex;\n",
              "      flex-wrap:wrap;\n",
              "      gap: 12px;\n",
              "    }\n",
              "\n",
              "    .colab-df-convert {\n",
              "      background-color: #E8F0FE;\n",
              "      border: none;\n",
              "      border-radius: 50%;\n",
              "      cursor: pointer;\n",
              "      display: none;\n",
              "      fill: #1967D2;\n",
              "      height: 32px;\n",
              "      padding: 0 0 0 0;\n",
              "      width: 32px;\n",
              "    }\n",
              "\n",
              "    .colab-df-convert:hover {\n",
              "      background-color: #E2EBFA;\n",
              "      box-shadow: 0px 1px 2px rgba(60, 64, 67, 0.3), 0px 1px 3px 1px rgba(60, 64, 67, 0.15);\n",
              "      fill: #174EA6;\n",
              "    }\n",
              "\n",
              "    [theme=dark] .colab-df-convert {\n",
              "      background-color: #3B4455;\n",
              "      fill: #D2E3FC;\n",
              "    }\n",
              "\n",
              "    [theme=dark] .colab-df-convert:hover {\n",
              "      background-color: #434B5C;\n",
              "      box-shadow: 0px 1px 3px 1px rgba(0, 0, 0, 0.15);\n",
              "      filter: drop-shadow(0px 1px 2px rgba(0, 0, 0, 0.3));\n",
              "      fill: #FFFFFF;\n",
              "    }\n",
              "  </style>\n",
              "\n",
              "      <script>\n",
              "        const buttonEl =\n",
              "          document.querySelector('#df-d8b0709a-a040-48e2-9f1c-19d35822249a button.colab-df-convert');\n",
              "        buttonEl.style.display =\n",
              "          google.colab.kernel.accessAllowed ? 'block' : 'none';\n",
              "\n",
              "        async function convertToInteractive(key) {\n",
              "          const element = document.querySelector('#df-d8b0709a-a040-48e2-9f1c-19d35822249a');\n",
              "          const dataTable =\n",
              "            await google.colab.kernel.invokeFunction('convertToInteractive',\n",
              "                                                     [key], {});\n",
              "          if (!dataTable) return;\n",
              "\n",
              "          const docLinkHtml = 'Like what you see? Visit the ' +\n",
              "            '<a target=\"_blank\" href=https://colab.research.google.com/notebooks/data_table.ipynb>data table notebook</a>'\n",
              "            + ' to learn more about interactive tables.';\n",
              "          element.innerHTML = '';\n",
              "          dataTable['output_type'] = 'display_data';\n",
              "          await google.colab.output.renderOutput(dataTable, element);\n",
              "          const docLink = document.createElement('div');\n",
              "          docLink.innerHTML = docLinkHtml;\n",
              "          element.appendChild(docLink);\n",
              "        }\n",
              "      </script>\n",
              "    </div>\n",
              "  </div>\n",
              "  "
            ]
          },
          "metadata": {},
          "execution_count": 59
        }
      ]
    },
    {
      "cell_type": "code",
      "source": [
        "pd.DataFrame(raw_pd.groupby(['month','delayed']).size())"
      ],
      "metadata": {
        "id": "nuU1RxCBseF0",
        "colab": {
          "base_uri": "https://localhost:8080/",
          "height": 833
        },
        "outputId": "f73f6c0a-d97e-4baf-99c7-1d52565096fa"
      },
      "id": "nuU1RxCBseF0",
      "execution_count": null,
      "outputs": [
        {
          "output_type": "execute_result",
          "data": {
            "text/plain": [
              "                  0\n",
              "month delayed      \n",
              "1     0        1755\n",
              "      1        1840\n",
              "2     0        1638\n",
              "      1        2012\n",
              "3     0        1888\n",
              "      1        1807\n",
              "4     0        1718\n",
              "      1        1771\n",
              "5     0        1906\n",
              "      1        2149\n",
              "6     0        2436\n",
              "      1        2393\n",
              "7     0        2539\n",
              "      1        2022\n",
              "8     0        2404\n",
              "      1        2122\n",
              "9     0        1720\n",
              "      1        1429\n",
              "10    0        2445\n",
              "      1        2153\n",
              "11    0        1799\n",
              "      1         963\n",
              "12    0        2736\n",
              "      1        2140"
            ],
            "text/html": [
              "\n",
              "  <div id=\"df-7f4a2e82-340b-48e1-972c-0f35a8b405af\">\n",
              "    <div class=\"colab-df-container\">\n",
              "      <div>\n",
              "<style scoped>\n",
              "    .dataframe tbody tr th:only-of-type {\n",
              "        vertical-align: middle;\n",
              "    }\n",
              "\n",
              "    .dataframe tbody tr th {\n",
              "        vertical-align: top;\n",
              "    }\n",
              "\n",
              "    .dataframe thead th {\n",
              "        text-align: right;\n",
              "    }\n",
              "</style>\n",
              "<table border=\"1\" class=\"dataframe\">\n",
              "  <thead>\n",
              "    <tr style=\"text-align: right;\">\n",
              "      <th></th>\n",
              "      <th></th>\n",
              "      <th>0</th>\n",
              "    </tr>\n",
              "    <tr>\n",
              "      <th>month</th>\n",
              "      <th>delayed</th>\n",
              "      <th></th>\n",
              "    </tr>\n",
              "  </thead>\n",
              "  <tbody>\n",
              "    <tr>\n",
              "      <th rowspan=\"2\" valign=\"top\">1</th>\n",
              "      <th>0</th>\n",
              "      <td>1755</td>\n",
              "    </tr>\n",
              "    <tr>\n",
              "      <th>1</th>\n",
              "      <td>1840</td>\n",
              "    </tr>\n",
              "    <tr>\n",
              "      <th rowspan=\"2\" valign=\"top\">2</th>\n",
              "      <th>0</th>\n",
              "      <td>1638</td>\n",
              "    </tr>\n",
              "    <tr>\n",
              "      <th>1</th>\n",
              "      <td>2012</td>\n",
              "    </tr>\n",
              "    <tr>\n",
              "      <th rowspan=\"2\" valign=\"top\">3</th>\n",
              "      <th>0</th>\n",
              "      <td>1888</td>\n",
              "    </tr>\n",
              "    <tr>\n",
              "      <th>1</th>\n",
              "      <td>1807</td>\n",
              "    </tr>\n",
              "    <tr>\n",
              "      <th rowspan=\"2\" valign=\"top\">4</th>\n",
              "      <th>0</th>\n",
              "      <td>1718</td>\n",
              "    </tr>\n",
              "    <tr>\n",
              "      <th>1</th>\n",
              "      <td>1771</td>\n",
              "    </tr>\n",
              "    <tr>\n",
              "      <th rowspan=\"2\" valign=\"top\">5</th>\n",
              "      <th>0</th>\n",
              "      <td>1906</td>\n",
              "    </tr>\n",
              "    <tr>\n",
              "      <th>1</th>\n",
              "      <td>2149</td>\n",
              "    </tr>\n",
              "    <tr>\n",
              "      <th rowspan=\"2\" valign=\"top\">6</th>\n",
              "      <th>0</th>\n",
              "      <td>2436</td>\n",
              "    </tr>\n",
              "    <tr>\n",
              "      <th>1</th>\n",
              "      <td>2393</td>\n",
              "    </tr>\n",
              "    <tr>\n",
              "      <th rowspan=\"2\" valign=\"top\">7</th>\n",
              "      <th>0</th>\n",
              "      <td>2539</td>\n",
              "    </tr>\n",
              "    <tr>\n",
              "      <th>1</th>\n",
              "      <td>2022</td>\n",
              "    </tr>\n",
              "    <tr>\n",
              "      <th rowspan=\"2\" valign=\"top\">8</th>\n",
              "      <th>0</th>\n",
              "      <td>2404</td>\n",
              "    </tr>\n",
              "    <tr>\n",
              "      <th>1</th>\n",
              "      <td>2122</td>\n",
              "    </tr>\n",
              "    <tr>\n",
              "      <th rowspan=\"2\" valign=\"top\">9</th>\n",
              "      <th>0</th>\n",
              "      <td>1720</td>\n",
              "    </tr>\n",
              "    <tr>\n",
              "      <th>1</th>\n",
              "      <td>1429</td>\n",
              "    </tr>\n",
              "    <tr>\n",
              "      <th rowspan=\"2\" valign=\"top\">10</th>\n",
              "      <th>0</th>\n",
              "      <td>2445</td>\n",
              "    </tr>\n",
              "    <tr>\n",
              "      <th>1</th>\n",
              "      <td>2153</td>\n",
              "    </tr>\n",
              "    <tr>\n",
              "      <th rowspan=\"2\" valign=\"top\">11</th>\n",
              "      <th>0</th>\n",
              "      <td>1799</td>\n",
              "    </tr>\n",
              "    <tr>\n",
              "      <th>1</th>\n",
              "      <td>963</td>\n",
              "    </tr>\n",
              "    <tr>\n",
              "      <th rowspan=\"2\" valign=\"top\">12</th>\n",
              "      <th>0</th>\n",
              "      <td>2736</td>\n",
              "    </tr>\n",
              "    <tr>\n",
              "      <th>1</th>\n",
              "      <td>2140</td>\n",
              "    </tr>\n",
              "  </tbody>\n",
              "</table>\n",
              "</div>\n",
              "      <button class=\"colab-df-convert\" onclick=\"convertToInteractive('df-7f4a2e82-340b-48e1-972c-0f35a8b405af')\"\n",
              "              title=\"Convert this dataframe to an interactive table.\"\n",
              "              style=\"display:none;\">\n",
              "        \n",
              "  <svg xmlns=\"http://www.w3.org/2000/svg\" height=\"24px\"viewBox=\"0 0 24 24\"\n",
              "       width=\"24px\">\n",
              "    <path d=\"M0 0h24v24H0V0z\" fill=\"none\"/>\n",
              "    <path d=\"M18.56 5.44l.94 2.06.94-2.06 2.06-.94-2.06-.94-.94-2.06-.94 2.06-2.06.94zm-11 1L8.5 8.5l.94-2.06 2.06-.94-2.06-.94L8.5 2.5l-.94 2.06-2.06.94zm10 10l.94 2.06.94-2.06 2.06-.94-2.06-.94-.94-2.06-.94 2.06-2.06.94z\"/><path d=\"M17.41 7.96l-1.37-1.37c-.4-.4-.92-.59-1.43-.59-.52 0-1.04.2-1.43.59L10.3 9.45l-7.72 7.72c-.78.78-.78 2.05 0 2.83L4 21.41c.39.39.9.59 1.41.59.51 0 1.02-.2 1.41-.59l7.78-7.78 2.81-2.81c.8-.78.8-2.07 0-2.86zM5.41 20L4 18.59l7.72-7.72 1.47 1.35L5.41 20z\"/>\n",
              "  </svg>\n",
              "      </button>\n",
              "      \n",
              "  <style>\n",
              "    .colab-df-container {\n",
              "      display:flex;\n",
              "      flex-wrap:wrap;\n",
              "      gap: 12px;\n",
              "    }\n",
              "\n",
              "    .colab-df-convert {\n",
              "      background-color: #E8F0FE;\n",
              "      border: none;\n",
              "      border-radius: 50%;\n",
              "      cursor: pointer;\n",
              "      display: none;\n",
              "      fill: #1967D2;\n",
              "      height: 32px;\n",
              "      padding: 0 0 0 0;\n",
              "      width: 32px;\n",
              "    }\n",
              "\n",
              "    .colab-df-convert:hover {\n",
              "      background-color: #E2EBFA;\n",
              "      box-shadow: 0px 1px 2px rgba(60, 64, 67, 0.3), 0px 1px 3px 1px rgba(60, 64, 67, 0.15);\n",
              "      fill: #174EA6;\n",
              "    }\n",
              "\n",
              "    [theme=dark] .colab-df-convert {\n",
              "      background-color: #3B4455;\n",
              "      fill: #D2E3FC;\n",
              "    }\n",
              "\n",
              "    [theme=dark] .colab-df-convert:hover {\n",
              "      background-color: #434B5C;\n",
              "      box-shadow: 0px 1px 3px 1px rgba(0, 0, 0, 0.15);\n",
              "      filter: drop-shadow(0px 1px 2px rgba(0, 0, 0, 0.3));\n",
              "      fill: #FFFFFF;\n",
              "    }\n",
              "  </style>\n",
              "\n",
              "      <script>\n",
              "        const buttonEl =\n",
              "          document.querySelector('#df-7f4a2e82-340b-48e1-972c-0f35a8b405af button.colab-df-convert');\n",
              "        buttonEl.style.display =\n",
              "          google.colab.kernel.accessAllowed ? 'block' : 'none';\n",
              "\n",
              "        async function convertToInteractive(key) {\n",
              "          const element = document.querySelector('#df-7f4a2e82-340b-48e1-972c-0f35a8b405af');\n",
              "          const dataTable =\n",
              "            await google.colab.kernel.invokeFunction('convertToInteractive',\n",
              "                                                     [key], {});\n",
              "          if (!dataTable) return;\n",
              "\n",
              "          const docLinkHtml = 'Like what you see? Visit the ' +\n",
              "            '<a target=\"_blank\" href=https://colab.research.google.com/notebooks/data_table.ipynb>data table notebook</a>'\n",
              "            + ' to learn more about interactive tables.';\n",
              "          element.innerHTML = '';\n",
              "          dataTable['output_type'] = 'display_data';\n",
              "          await google.colab.output.renderOutput(dataTable, element);\n",
              "          const docLink = document.createElement('div');\n",
              "          docLink.innerHTML = docLinkHtml;\n",
              "          element.appendChild(docLink);\n",
              "        }\n",
              "      </script>\n",
              "    </div>\n",
              "  </div>\n",
              "  "
            ]
          },
          "metadata": {},
          "execution_count": 66
        }
      ]
    },
    {
      "cell_type": "code",
      "source": [
        "pd.DataFrame(raw_pd.groupby(['dayofweek','delayed']).size())"
      ],
      "metadata": {
        "id": "YVC9_Npbsdne",
        "colab": {
          "base_uri": "https://localhost:8080/",
          "height": 520
        },
        "outputId": "9ddc8744-aec2-4a3e-dbeb-03a50d754d01"
      },
      "id": "YVC9_Npbsdne",
      "execution_count": null,
      "outputs": [
        {
          "output_type": "execute_result",
          "data": {
            "text/plain": [
              "                      0\n",
              "dayofweek delayed      \n",
              "1         0        3713\n",
              "          1        3744\n",
              "2         0        3870\n",
              "          1        3361\n",
              "3         0        3314\n",
              "          1        2694\n",
              "4         0        3383\n",
              "          1        3050\n",
              "5         0        3882\n",
              "          1        3550\n",
              "6         0        3739\n",
              "          1        3848\n",
              "7         0        3083\n",
              "          1        2554"
            ],
            "text/html": [
              "\n",
              "  <div id=\"df-c3aa1b65-c7e3-44e2-aa8b-4e576821267b\">\n",
              "    <div class=\"colab-df-container\">\n",
              "      <div>\n",
              "<style scoped>\n",
              "    .dataframe tbody tr th:only-of-type {\n",
              "        vertical-align: middle;\n",
              "    }\n",
              "\n",
              "    .dataframe tbody tr th {\n",
              "        vertical-align: top;\n",
              "    }\n",
              "\n",
              "    .dataframe thead th {\n",
              "        text-align: right;\n",
              "    }\n",
              "</style>\n",
              "<table border=\"1\" class=\"dataframe\">\n",
              "  <thead>\n",
              "    <tr style=\"text-align: right;\">\n",
              "      <th></th>\n",
              "      <th></th>\n",
              "      <th>0</th>\n",
              "    </tr>\n",
              "    <tr>\n",
              "      <th>dayofweek</th>\n",
              "      <th>delayed</th>\n",
              "      <th></th>\n",
              "    </tr>\n",
              "  </thead>\n",
              "  <tbody>\n",
              "    <tr>\n",
              "      <th rowspan=\"2\" valign=\"top\">1</th>\n",
              "      <th>0</th>\n",
              "      <td>3713</td>\n",
              "    </tr>\n",
              "    <tr>\n",
              "      <th>1</th>\n",
              "      <td>3744</td>\n",
              "    </tr>\n",
              "    <tr>\n",
              "      <th rowspan=\"2\" valign=\"top\">2</th>\n",
              "      <th>0</th>\n",
              "      <td>3870</td>\n",
              "    </tr>\n",
              "    <tr>\n",
              "      <th>1</th>\n",
              "      <td>3361</td>\n",
              "    </tr>\n",
              "    <tr>\n",
              "      <th rowspan=\"2\" valign=\"top\">3</th>\n",
              "      <th>0</th>\n",
              "      <td>3314</td>\n",
              "    </tr>\n",
              "    <tr>\n",
              "      <th>1</th>\n",
              "      <td>2694</td>\n",
              "    </tr>\n",
              "    <tr>\n",
              "      <th rowspan=\"2\" valign=\"top\">4</th>\n",
              "      <th>0</th>\n",
              "      <td>3383</td>\n",
              "    </tr>\n",
              "    <tr>\n",
              "      <th>1</th>\n",
              "      <td>3050</td>\n",
              "    </tr>\n",
              "    <tr>\n",
              "      <th rowspan=\"2\" valign=\"top\">5</th>\n",
              "      <th>0</th>\n",
              "      <td>3882</td>\n",
              "    </tr>\n",
              "    <tr>\n",
              "      <th>1</th>\n",
              "      <td>3550</td>\n",
              "    </tr>\n",
              "    <tr>\n",
              "      <th rowspan=\"2\" valign=\"top\">6</th>\n",
              "      <th>0</th>\n",
              "      <td>3739</td>\n",
              "    </tr>\n",
              "    <tr>\n",
              "      <th>1</th>\n",
              "      <td>3848</td>\n",
              "    </tr>\n",
              "    <tr>\n",
              "      <th rowspan=\"2\" valign=\"top\">7</th>\n",
              "      <th>0</th>\n",
              "      <td>3083</td>\n",
              "    </tr>\n",
              "    <tr>\n",
              "      <th>1</th>\n",
              "      <td>2554</td>\n",
              "    </tr>\n",
              "  </tbody>\n",
              "</table>\n",
              "</div>\n",
              "      <button class=\"colab-df-convert\" onclick=\"convertToInteractive('df-c3aa1b65-c7e3-44e2-aa8b-4e576821267b')\"\n",
              "              title=\"Convert this dataframe to an interactive table.\"\n",
              "              style=\"display:none;\">\n",
              "        \n",
              "  <svg xmlns=\"http://www.w3.org/2000/svg\" height=\"24px\"viewBox=\"0 0 24 24\"\n",
              "       width=\"24px\">\n",
              "    <path d=\"M0 0h24v24H0V0z\" fill=\"none\"/>\n",
              "    <path d=\"M18.56 5.44l.94 2.06.94-2.06 2.06-.94-2.06-.94-.94-2.06-.94 2.06-2.06.94zm-11 1L8.5 8.5l.94-2.06 2.06-.94-2.06-.94L8.5 2.5l-.94 2.06-2.06.94zm10 10l.94 2.06.94-2.06 2.06-.94-2.06-.94-.94-2.06-.94 2.06-2.06.94z\"/><path d=\"M17.41 7.96l-1.37-1.37c-.4-.4-.92-.59-1.43-.59-.52 0-1.04.2-1.43.59L10.3 9.45l-7.72 7.72c-.78.78-.78 2.05 0 2.83L4 21.41c.39.39.9.59 1.41.59.51 0 1.02-.2 1.41-.59l7.78-7.78 2.81-2.81c.8-.78.8-2.07 0-2.86zM5.41 20L4 18.59l7.72-7.72 1.47 1.35L5.41 20z\"/>\n",
              "  </svg>\n",
              "      </button>\n",
              "      \n",
              "  <style>\n",
              "    .colab-df-container {\n",
              "      display:flex;\n",
              "      flex-wrap:wrap;\n",
              "      gap: 12px;\n",
              "    }\n",
              "\n",
              "    .colab-df-convert {\n",
              "      background-color: #E8F0FE;\n",
              "      border: none;\n",
              "      border-radius: 50%;\n",
              "      cursor: pointer;\n",
              "      display: none;\n",
              "      fill: #1967D2;\n",
              "      height: 32px;\n",
              "      padding: 0 0 0 0;\n",
              "      width: 32px;\n",
              "    }\n",
              "\n",
              "    .colab-df-convert:hover {\n",
              "      background-color: #E2EBFA;\n",
              "      box-shadow: 0px 1px 2px rgba(60, 64, 67, 0.3), 0px 1px 3px 1px rgba(60, 64, 67, 0.15);\n",
              "      fill: #174EA6;\n",
              "    }\n",
              "\n",
              "    [theme=dark] .colab-df-convert {\n",
              "      background-color: #3B4455;\n",
              "      fill: #D2E3FC;\n",
              "    }\n",
              "\n",
              "    [theme=dark] .colab-df-convert:hover {\n",
              "      background-color: #434B5C;\n",
              "      box-shadow: 0px 1px 3px 1px rgba(0, 0, 0, 0.15);\n",
              "      filter: drop-shadow(0px 1px 2px rgba(0, 0, 0, 0.3));\n",
              "      fill: #FFFFFF;\n",
              "    }\n",
              "  </style>\n",
              "\n",
              "      <script>\n",
              "        const buttonEl =\n",
              "          document.querySelector('#df-c3aa1b65-c7e3-44e2-aa8b-4e576821267b button.colab-df-convert');\n",
              "        buttonEl.style.display =\n",
              "          google.colab.kernel.accessAllowed ? 'block' : 'none';\n",
              "\n",
              "        async function convertToInteractive(key) {\n",
              "          const element = document.querySelector('#df-c3aa1b65-c7e3-44e2-aa8b-4e576821267b');\n",
              "          const dataTable =\n",
              "            await google.colab.kernel.invokeFunction('convertToInteractive',\n",
              "                                                     [key], {});\n",
              "          if (!dataTable) return;\n",
              "\n",
              "          const docLinkHtml = 'Like what you see? Visit the ' +\n",
              "            '<a target=\"_blank\" href=https://colab.research.google.com/notebooks/data_table.ipynb>data table notebook</a>'\n",
              "            + ' to learn more about interactive tables.';\n",
              "          element.innerHTML = '';\n",
              "          dataTable['output_type'] = 'display_data';\n",
              "          await google.colab.output.renderOutput(dataTable, element);\n",
              "          const docLink = document.createElement('div');\n",
              "          docLink.innerHTML = docLinkHtml;\n",
              "          element.appendChild(docLink);\n",
              "        }\n",
              "      </script>\n",
              "    </div>\n",
              "  </div>\n",
              "  "
            ]
          },
          "metadata": {},
          "execution_count": 67
        }
      ]
    },
    {
      "cell_type": "code",
      "metadata": {
        "id": "3ad8ece5"
      },
      "source": [
        "# ทำการเลือก Feature แบบเลือกออก\n",
        "# เอา departure_airport ออกทั้ง column เนื่องจาก departure_airport มีค่าเดียวคือ SFO ซึ่งไม่มีประโยชน์ต่อการแบ่งแยก (Divide-and-Conquer)\n",
        "# เอา date ออก เนื่องจากวันที่ น่าจะไม่มีความสัมพันธ์กับ delayed\n",
        "# เอา arrival_delay ออก เนื่องจาก arrival_delay เป็นสิ่งที่ทำให้เกิด information leakage\n",
        "candidatedFeatures_pd = raw_pd.filter(candidatedFeatures_list)\\\n",
        ".drop(['date','arrival_delay','departure_airport'], axis=1).dropna()"
      ],
      "id": "3ad8ece5",
      "execution_count": null,
      "outputs": []
    },
    {
      "cell_type": "markdown",
      "metadata": {
        "id": "180a9043"
      },
      "source": [
        "#### 2.10 EDA of Candidate Features with Checking for NULL"
      ],
      "id": "180a9043"
    },
    {
      "cell_type": "code",
      "metadata": {
        "id": "e09a692b",
        "colab": {
          "base_uri": "https://localhost:8080/"
        },
        "outputId": "da7a2972-df86-4388-b196-f901a9267d3f"
      },
      "source": [
        "candidatedFeatures_pd.isnull().sum()"
      ],
      "id": "e09a692b",
      "execution_count": null,
      "outputs": [
        {
          "output_type": "execute_result",
          "data": {
            "text/plain": [
              "airline            0\n",
              "arrival_airport    0\n",
              "departure_delay    0\n",
              "dayofweek          0\n",
              "month              0\n",
              "delayed            0\n",
              "dtype: int64"
            ]
          },
          "metadata": {},
          "execution_count": 22
        }
      ]
    },
    {
      "cell_type": "code",
      "metadata": {
        "id": "6aba282d",
        "colab": {
          "base_uri": "https://localhost:8080/"
        },
        "outputId": "59f8ab7f-30ed-4121-c009-4bc1c6cb1797"
      },
      "source": [
        "candidatedFeatures_pd.count()"
      ],
      "id": "6aba282d",
      "execution_count": null,
      "outputs": [
        {
          "output_type": "execute_result",
          "data": {
            "text/plain": [
              "airline            47785\n",
              "arrival_airport    47785\n",
              "departure_delay    47785\n",
              "dayofweek          47785\n",
              "month              47785\n",
              "delayed            47785\n",
              "dtype: int64"
            ]
          },
          "metadata": {},
          "execution_count": 23
        }
      ]
    },
    {
      "cell_type": "markdown",
      "metadata": {
        "id": "eccd9d1c"
      },
      "source": [
        "## 3. Data Preparation"
      ],
      "id": "eccd9d1c"
    },
    {
      "cell_type": "markdown",
      "metadata": {
        "id": "904a4b0b"
      },
      "source": [
        "## 4. Modeling (Features Transformation and ML Algorithms)"
      ],
      "id": "904a4b0b"
    },
    {
      "cell_type": "code",
      "metadata": {
        "id": "b12bf371"
      },
      "source": [
        "import pandas as pd\n",
        "from seaborn import load_dataset\n",
        "import numpy as np\n",
        "\n",
        "from sklearn.model_selection import train_test_split\n",
        "from sklearn.base import BaseEstimator, TransformerMixin\n",
        "from sklearn.preprocessing import OneHotEncoder, MinMaxScaler\n",
        "from sklearn.impute import SimpleImputer\n",
        "from sklearn.pipeline import Pipeline, FeatureUnion\n",
        "from sklearn.compose import ColumnTransformer\n",
        "from sklearn.linear_model import LinearRegression"
      ],
      "id": "b12bf371",
      "execution_count": null,
      "outputs": []
    },
    {
      "cell_type": "markdown",
      "metadata": {
        "id": "fea9afe6"
      },
      "source": [
        "#### 4.1 แบ่งแยก Training/Testing Set"
      ],
      "id": "fea9afe6"
    },
    {
      "cell_type": "code",
      "metadata": {
        "id": "9ce1d665"
      },
      "source": [
        "train_df = candidatedFeatures_pd.sample(frac=0.8,random_state=123)"
      ],
      "id": "9ce1d665",
      "execution_count": null,
      "outputs": []
    },
    {
      "cell_type": "code",
      "metadata": {
        "id": "38f29e1e"
      },
      "source": [
        "test_df = candidatedFeatures_pd.drop(train_df.index)"
      ],
      "id": "38f29e1e",
      "execution_count": null,
      "outputs": []
    },
    {
      "cell_type": "code",
      "metadata": {
        "id": "7514bde3",
        "colab": {
          "base_uri": "https://localhost:8080/"
        },
        "outputId": "99e61405-8126-49ae-f7f4-905a5351f687"
      },
      "source": [
        "train_df.count()"
      ],
      "id": "7514bde3",
      "execution_count": null,
      "outputs": [
        {
          "output_type": "execute_result",
          "data": {
            "text/plain": [
              "airline            38228\n",
              "arrival_airport    38228\n",
              "departure_delay    38228\n",
              "dayofweek          38228\n",
              "month              38228\n",
              "delayed            38228\n",
              "dtype: int64"
            ]
          },
          "metadata": {},
          "execution_count": 27
        }
      ]
    },
    {
      "cell_type": "code",
      "metadata": {
        "id": "4c6c3237",
        "colab": {
          "base_uri": "https://localhost:8080/"
        },
        "outputId": "38237590-2bc0-4b21-b6f7-fedde3775eb7"
      },
      "source": [
        "test_df.count()"
      ],
      "id": "4c6c3237",
      "execution_count": null,
      "outputs": [
        {
          "output_type": "execute_result",
          "data": {
            "text/plain": [
              "airline            9557\n",
              "arrival_airport    9557\n",
              "departure_delay    9557\n",
              "dayofweek          9557\n",
              "month              9557\n",
              "delayed            9557\n",
              "dtype: int64"
            ]
          },
          "metadata": {},
          "execution_count": 28
        }
      ]
    },
    {
      "cell_type": "markdown",
      "metadata": {
        "id": "4191f587"
      },
      "source": [
        "#### 4.2 แบ่งแยก Descriptive Features and Target Feature (Label) ออกจากกัน ตามหลักการของ Scikit Learn"
      ],
      "id": "4191f587"
    },
    {
      "cell_type": "code",
      "metadata": {
        "id": "b09e0071"
      },
      "source": [
        "train_labels = train_df.filter(['delayed'])\n",
        "train_df = train_df.loc[:, train_df.columns != 'delayed']"
      ],
      "id": "b09e0071",
      "execution_count": null,
      "outputs": []
    },
    {
      "cell_type": "code",
      "metadata": {
        "id": "55db4630"
      },
      "source": [
        "test_labels = test_df.filter(['delayed'])\n",
        "test_df = test_df.loc[:, test_df.columns != 'delayed']"
      ],
      "id": "55db4630",
      "execution_count": null,
      "outputs": []
    },
    {
      "cell_type": "code",
      "metadata": {
        "id": "4f04c715"
      },
      "source": [
        "X_train = train_df"
      ],
      "id": "4f04c715",
      "execution_count": null,
      "outputs": []
    },
    {
      "cell_type": "code",
      "metadata": {
        "id": "5f6f2b48"
      },
      "source": [
        "X_test = test_df"
      ],
      "id": "5f6f2b48",
      "execution_count": null,
      "outputs": []
    },
    {
      "cell_type": "code",
      "metadata": {
        "id": "2ece8d85"
      },
      "source": [
        "y_train = train_labels"
      ],
      "id": "2ece8d85",
      "execution_count": null,
      "outputs": []
    },
    {
      "cell_type": "code",
      "metadata": {
        "id": "cc95c440"
      },
      "source": [
        "y_test = test_labels"
      ],
      "id": "cc95c440",
      "execution_count": null,
      "outputs": []
    },
    {
      "cell_type": "markdown",
      "metadata": {
        "id": "d7fc4c57"
      },
      "source": [
        "#### 4.3 ตรวจสอบว่า Features ไหนเป็น Categorical หรือ Numerical เพื่อเลือกทำ Transformation ให้เหมาะสมต่อไป"
      ],
      "id": "d7fc4c57"
    },
    {
      "cell_type": "code",
      "metadata": {
        "id": "e3dfef6f",
        "colab": {
          "base_uri": "https://localhost:8080/"
        },
        "outputId": "6f1a9e6f-7ff6-4dfb-919e-dce7a916f05a"
      },
      "source": [
        "categorical = list(X_train.select_dtypes('object').columns)\n",
        "print(f\"Categorical columns are: {categorical}\")\n",
        "\n",
        "numerical = list(X_train.select_dtypes('number').columns)\n",
        "print(f\"Numerical columns are: {numerical}\")"
      ],
      "id": "e3dfef6f",
      "execution_count": null,
      "outputs": [
        {
          "output_type": "stream",
          "name": "stdout",
          "text": [
            "Categorical columns are: ['airline', 'arrival_airport']\n",
            "Numerical columns are: ['departure_delay', 'dayofweek', 'month']\n"
          ]
        }
      ]
    },
    {
      "cell_type": "markdown",
      "metadata": {
        "id": "50e01dea"
      },
      "source": [
        "#### 4.4 Define/Run a pipeline for transforming features and modeling"
      ],
      "id": "50e01dea"
    },
    {
      "cell_type": "code",
      "metadata": {
        "id": "5478c01d"
      },
      "source": [
        "from sklearn.tree import DecisionTreeClassifier, export_graphviz\n",
        "from sklearn import tree\n",
        "from sklearn.datasets import load_wine\n",
        "from sklearn.model_selection import train_test_split\n",
        "from sklearn import metrics"
      ],
      "id": "5478c01d",
      "execution_count": null,
      "outputs": []
    },
    {
      "cell_type": "code",
      "metadata": {
        "id": "b79d6e46"
      },
      "source": [
        "# Define custom transformer\n",
        "class ColumnSelector(BaseEstimator, TransformerMixin):\n",
        "    \"\"\"Select only specified columns.\"\"\"\n",
        "    def __init__(self, columns):\n",
        "        self.columns = columns\n",
        "        \n",
        "    def fit(self, X, y=None):\n",
        "        return self\n",
        "    \n",
        "    def transform(self, X):\n",
        "        return X[self.columns]\n",
        "\n",
        "# Define categorical pipeline\n",
        "cat_pipe = Pipeline([('selector', ColumnSelector(categorical)),\n",
        "                     ('imputer', SimpleImputer(strategy='constant', fill_value='missing')),\n",
        "                     ('encoder', OneHotEncoder(handle_unknown='ignore', sparse=False))])\n",
        "\n",
        "# Define numerical pipeline\n",
        "num_pipe = Pipeline([('selector', ColumnSelector(numerical))\n",
        "                     #('imputer', SimpleImputer(strategy='median')),\n",
        "                     #('scaler', MinMaxScaler())\n",
        "                    ])\n",
        "\n",
        "# Combine categorical and numerical pipeline\n",
        "preprocessor = FeatureUnion(transformer_list=[('cat', cat_pipe),\n",
        "                                              ('num', num_pipe)])\n",
        "\n",
        "# Model Training\n",
        "pipe = Pipeline(steps=[('preprocessor', preprocessor),\n",
        "                       ('model', DecisionTreeClassifier(criterion=\"entropy\", max_depth=None))])\n",
        "pipeline_model = pipe.fit(X_train, y_train)"
      ],
      "id": "b79d6e46",
      "execution_count": null,
      "outputs": []
    },
    {
      "cell_type": "markdown",
      "metadata": {
        "id": "5350e2cb"
      },
      "source": [
        "## 5. Model Evaluation"
      ],
      "id": "5350e2cb"
    },
    {
      "cell_type": "markdown",
      "metadata": {
        "id": "93e1ef77"
      },
      "source": [
        "#### 5.1 คำนวณค่าตามเกณฑ์การประเมิน"
      ],
      "id": "93e1ef77"
    },
    {
      "cell_type": "code",
      "metadata": {
        "id": "a4077bc3",
        "colab": {
          "base_uri": "https://localhost:8080/"
        },
        "outputId": "15dabdb0-51a5-40b6-d158-0aa728151cdf"
      },
      "source": [
        "y_pred = pipeline_model.predict(X_test).flatten()\n",
        "\n",
        "\n",
        "from sklearn.metrics import confusion_matrix\n",
        "cm = confusion_matrix(y_test, y_pred)\n",
        "print(\"Confusion Matrix (predict/actual):\\n\", pd.DataFrame(cm))\n",
        "\n",
        "\n",
        "pipeline_model.score(X_test, y_test)\n",
        "\n",
        "recall = np.diag(cm) / np.sum(cm, axis=1)\n",
        "print(\"\\nRecall:\\n\", pd.Series(recall))\n",
        "\n",
        "precision = np.diag(cm) / np.sum(cm, axis=0)\n",
        "print(\"\\nPrecision:\\n\", pd.Series(precision))\n",
        "\n",
        "\n",
        "from sklearn.metrics import f1_score\n",
        "weighted_f1 = f1_score(y_test, y_pred, average=\"weighted\")\n",
        "print(\"\\nF1 score:\\n\", weighted_f1)"
      ],
      "id": "a4077bc3",
      "execution_count": null,
      "outputs": [
        {
          "output_type": "stream",
          "name": "stdout",
          "text": [
            "Confusion Matrix (predict/actual):\n",
            "       0     1\n",
            "0  4150   812\n",
            "1   851  3744\n",
            "\n",
            "Recall:\n",
            " 0    0.836356\n",
            "1    0.814799\n",
            "dtype: float64\n",
            "\n",
            "Precision:\n",
            " 0    0.829834\n",
            "1    0.821773\n",
            "dtype: float64\n",
            "\n",
            "F1 score:\n",
            " 0.8259611993339603\n"
          ]
        }
      ]
    },
    {
      "cell_type": "markdown",
      "metadata": {
        "id": "d2f8133f"
      },
      "source": [
        "#### 5.2 คำนวณ Feature Importance"
      ],
      "id": "d2f8133f"
    },
    {
      "cell_type": "code",
      "metadata": {
        "id": "73d46641"
      },
      "source": [
        "pipeline_model_featureUnion = pipeline_model.named_steps['model']"
      ],
      "id": "73d46641",
      "execution_count": null,
      "outputs": []
    },
    {
      "cell_type": "code",
      "metadata": {
        "id": "cd274841"
      },
      "source": [
        "#pipeline_model_featureUnion.feature_importances_"
      ],
      "id": "cd274841",
      "execution_count": null,
      "outputs": []
    },
    {
      "cell_type": "code",
      "metadata": {
        "id": "7c929790"
      },
      "source": [
        "pipeline_features_coeff = pipeline_model_featureUnion.feature_importances_"
      ],
      "id": "7c929790",
      "execution_count": null,
      "outputs": []
    },
    {
      "cell_type": "code",
      "metadata": {
        "id": "b9a4d1e5",
        "colab": {
          "base_uri": "https://localhost:8080/"
        },
        "outputId": "9a8634c0-1740-48d6-f392-34df2fcbad4a"
      },
      "source": [
        "# Getting machine-readable columns\n",
        "cat_columns = preprocessor.transformer_list[0][1][2].get_feature_names(categorical)\n",
        "columns = np.append(cat_columns, numerical)"
      ],
      "id": "b9a4d1e5",
      "execution_count": null,
      "outputs": [
        {
          "output_type": "stream",
          "name": "stderr",
          "text": [
            "/usr/local/lib/python3.7/dist-packages/sklearn/utils/deprecation.py:87: FutureWarning: Function get_feature_names is deprecated; get_feature_names is deprecated in 1.0 and will be removed in 1.2. Please use get_feature_names_out instead.\n",
            "  warnings.warn(msg, category=FutureWarning)\n"
          ]
        }
      ]
    },
    {
      "cell_type": "code",
      "metadata": {
        "id": "7f979464"
      },
      "source": [
        "zipped = zip(columns,pipeline_features_coeff)"
      ],
      "id": "7f979464",
      "execution_count": null,
      "outputs": []
    },
    {
      "cell_type": "code",
      "metadata": {
        "id": "27557181"
      },
      "source": [
        "coeff_pd = pd.DataFrame(zipped,columns=[\"machine_features\",\"value\"])"
      ],
      "id": "27557181",
      "execution_count": null,
      "outputs": []
    },
    {
      "cell_type": "code",
      "metadata": {
        "id": "4ec0c30c",
        "colab": {
          "base_uri": "https://localhost:8080/",
          "height": 423
        },
        "outputId": "fb7fba1a-110a-4316-9224-1e722d96b414"
      },
      "source": [
        "coeff_pd"
      ],
      "id": "4ec0c30c",
      "execution_count": null,
      "outputs": [
        {
          "output_type": "execute_result",
          "data": {
            "text/plain": [
              "       machine_features     value\n",
              "0            airline_AA  0.005804\n",
              "1            airline_AS  0.003386\n",
              "2            airline_B6  0.001930\n",
              "3            airline_CO  0.003040\n",
              "4            airline_DL  0.003124\n",
              "..                  ...       ...\n",
              "82  arrival_airport_STL  0.000512\n",
              "83  arrival_airport_TUS  0.000488\n",
              "84      departure_delay  0.627039\n",
              "85            dayofweek  0.082015\n",
              "86                month  0.093038\n",
              "\n",
              "[87 rows x 2 columns]"
            ],
            "text/html": [
              "\n",
              "  <div id=\"df-e9010911-a572-419d-838d-6383b1203feb\">\n",
              "    <div class=\"colab-df-container\">\n",
              "      <div>\n",
              "<style scoped>\n",
              "    .dataframe tbody tr th:only-of-type {\n",
              "        vertical-align: middle;\n",
              "    }\n",
              "\n",
              "    .dataframe tbody tr th {\n",
              "        vertical-align: top;\n",
              "    }\n",
              "\n",
              "    .dataframe thead th {\n",
              "        text-align: right;\n",
              "    }\n",
              "</style>\n",
              "<table border=\"1\" class=\"dataframe\">\n",
              "  <thead>\n",
              "    <tr style=\"text-align: right;\">\n",
              "      <th></th>\n",
              "      <th>machine_features</th>\n",
              "      <th>value</th>\n",
              "    </tr>\n",
              "  </thead>\n",
              "  <tbody>\n",
              "    <tr>\n",
              "      <th>0</th>\n",
              "      <td>airline_AA</td>\n",
              "      <td>0.005804</td>\n",
              "    </tr>\n",
              "    <tr>\n",
              "      <th>1</th>\n",
              "      <td>airline_AS</td>\n",
              "      <td>0.003386</td>\n",
              "    </tr>\n",
              "    <tr>\n",
              "      <th>2</th>\n",
              "      <td>airline_B6</td>\n",
              "      <td>0.001930</td>\n",
              "    </tr>\n",
              "    <tr>\n",
              "      <th>3</th>\n",
              "      <td>airline_CO</td>\n",
              "      <td>0.003040</td>\n",
              "    </tr>\n",
              "    <tr>\n",
              "      <th>4</th>\n",
              "      <td>airline_DL</td>\n",
              "      <td>0.003124</td>\n",
              "    </tr>\n",
              "    <tr>\n",
              "      <th>...</th>\n",
              "      <td>...</td>\n",
              "      <td>...</td>\n",
              "    </tr>\n",
              "    <tr>\n",
              "      <th>82</th>\n",
              "      <td>arrival_airport_STL</td>\n",
              "      <td>0.000512</td>\n",
              "    </tr>\n",
              "    <tr>\n",
              "      <th>83</th>\n",
              "      <td>arrival_airport_TUS</td>\n",
              "      <td>0.000488</td>\n",
              "    </tr>\n",
              "    <tr>\n",
              "      <th>84</th>\n",
              "      <td>departure_delay</td>\n",
              "      <td>0.627039</td>\n",
              "    </tr>\n",
              "    <tr>\n",
              "      <th>85</th>\n",
              "      <td>dayofweek</td>\n",
              "      <td>0.082015</td>\n",
              "    </tr>\n",
              "    <tr>\n",
              "      <th>86</th>\n",
              "      <td>month</td>\n",
              "      <td>0.093038</td>\n",
              "    </tr>\n",
              "  </tbody>\n",
              "</table>\n",
              "<p>87 rows × 2 columns</p>\n",
              "</div>\n",
              "      <button class=\"colab-df-convert\" onclick=\"convertToInteractive('df-e9010911-a572-419d-838d-6383b1203feb')\"\n",
              "              title=\"Convert this dataframe to an interactive table.\"\n",
              "              style=\"display:none;\">\n",
              "        \n",
              "  <svg xmlns=\"http://www.w3.org/2000/svg\" height=\"24px\"viewBox=\"0 0 24 24\"\n",
              "       width=\"24px\">\n",
              "    <path d=\"M0 0h24v24H0V0z\" fill=\"none\"/>\n",
              "    <path d=\"M18.56 5.44l.94 2.06.94-2.06 2.06-.94-2.06-.94-.94-2.06-.94 2.06-2.06.94zm-11 1L8.5 8.5l.94-2.06 2.06-.94-2.06-.94L8.5 2.5l-.94 2.06-2.06.94zm10 10l.94 2.06.94-2.06 2.06-.94-2.06-.94-.94-2.06-.94 2.06-2.06.94z\"/><path d=\"M17.41 7.96l-1.37-1.37c-.4-.4-.92-.59-1.43-.59-.52 0-1.04.2-1.43.59L10.3 9.45l-7.72 7.72c-.78.78-.78 2.05 0 2.83L4 21.41c.39.39.9.59 1.41.59.51 0 1.02-.2 1.41-.59l7.78-7.78 2.81-2.81c.8-.78.8-2.07 0-2.86zM5.41 20L4 18.59l7.72-7.72 1.47 1.35L5.41 20z\"/>\n",
              "  </svg>\n",
              "      </button>\n",
              "      \n",
              "  <style>\n",
              "    .colab-df-container {\n",
              "      display:flex;\n",
              "      flex-wrap:wrap;\n",
              "      gap: 12px;\n",
              "    }\n",
              "\n",
              "    .colab-df-convert {\n",
              "      background-color: #E8F0FE;\n",
              "      border: none;\n",
              "      border-radius: 50%;\n",
              "      cursor: pointer;\n",
              "      display: none;\n",
              "      fill: #1967D2;\n",
              "      height: 32px;\n",
              "      padding: 0 0 0 0;\n",
              "      width: 32px;\n",
              "    }\n",
              "\n",
              "    .colab-df-convert:hover {\n",
              "      background-color: #E2EBFA;\n",
              "      box-shadow: 0px 1px 2px rgba(60, 64, 67, 0.3), 0px 1px 3px 1px rgba(60, 64, 67, 0.15);\n",
              "      fill: #174EA6;\n",
              "    }\n",
              "\n",
              "    [theme=dark] .colab-df-convert {\n",
              "      background-color: #3B4455;\n",
              "      fill: #D2E3FC;\n",
              "    }\n",
              "\n",
              "    [theme=dark] .colab-df-convert:hover {\n",
              "      background-color: #434B5C;\n",
              "      box-shadow: 0px 1px 3px 1px rgba(0, 0, 0, 0.15);\n",
              "      filter: drop-shadow(0px 1px 2px rgba(0, 0, 0, 0.3));\n",
              "      fill: #FFFFFF;\n",
              "    }\n",
              "  </style>\n",
              "\n",
              "      <script>\n",
              "        const buttonEl =\n",
              "          document.querySelector('#df-e9010911-a572-419d-838d-6383b1203feb button.colab-df-convert');\n",
              "        buttonEl.style.display =\n",
              "          google.colab.kernel.accessAllowed ? 'block' : 'none';\n",
              "\n",
              "        async function convertToInteractive(key) {\n",
              "          const element = document.querySelector('#df-e9010911-a572-419d-838d-6383b1203feb');\n",
              "          const dataTable =\n",
              "            await google.colab.kernel.invokeFunction('convertToInteractive',\n",
              "                                                     [key], {});\n",
              "          if (!dataTable) return;\n",
              "\n",
              "          const docLinkHtml = 'Like what you see? Visit the ' +\n",
              "            '<a target=\"_blank\" href=https://colab.research.google.com/notebooks/data_table.ipynb>data table notebook</a>'\n",
              "            + ' to learn more about interactive tables.';\n",
              "          element.innerHTML = '';\n",
              "          dataTable['output_type'] = 'display_data';\n",
              "          await google.colab.output.renderOutput(dataTable, element);\n",
              "          const docLink = document.createElement('div');\n",
              "          docLink.innerHTML = docLinkHtml;\n",
              "          element.appendChild(docLink);\n",
              "        }\n",
              "      </script>\n",
              "    </div>\n",
              "  </div>\n",
              "  "
            ]
          },
          "metadata": {},
          "execution_count": 45
        }
      ]
    },
    {
      "cell_type": "code",
      "metadata": {
        "id": "d803b732"
      },
      "source": [
        "# Sort the features by the absolute value of their coefficient\n",
        "coeff_pd[\"abs_value\"] = coeff_pd[\"value\"].apply(lambda x: abs(x))\n",
        "coeff_pd[\"colors\"] = coeff_pd[\"value\"].apply(lambda x: \"green\" if x > 0 else \"red\")\n",
        "coeff_pd = coeff_pd.sort_values(\"abs_value\", ascending=False)"
      ],
      "id": "d803b732",
      "execution_count": null,
      "outputs": []
    },
    {
      "cell_type": "code",
      "metadata": {
        "id": "a49e1240",
        "colab": {
          "base_uri": "https://localhost:8080/",
          "height": 684
        },
        "outputId": "0da79889-4160-474d-9243-e9959c96db50"
      },
      "source": [
        "fig, ax = plt.subplots(1, 1, figsize=(12, 7))\n",
        "sns.barplot(x=\"machine_features\",\n",
        "            y=\"value\",\n",
        "            data=coeff_pd.head(20),\n",
        "           palette=coeff_pd.head(20)[\"colors\"])\n",
        "ax.set_xticklabels(ax.get_xticklabels(), rotation=90, fontsize=20)\n",
        "ax.set_title(\"Top 20 Features\", fontsize=25)\n",
        "ax.set_ylabel(\"Coef\", fontsize=22)\n",
        "ax.set_xlabel(\"Feature Name\", fontsize=22)"
      ],
      "id": "a49e1240",
      "execution_count": null,
      "outputs": [
        {
          "output_type": "execute_result",
          "data": {
            "text/plain": [
              "Text(0.5, 0, 'Feature Name')"
            ]
          },
          "metadata": {},
          "execution_count": 47
        },
        {
          "output_type": "display_data",
          "data": {
            "text/plain": [
              "<Figure size 864x504 with 1 Axes>"
            ],
            "image/png": "[encoded data removed]"
          },
          "metadata": {
            "needs_background": "light"
          }
        }
      ]
    },
    {
      "cell_type": "code",
      "metadata": {
        "id": "94dbfe73",
        "colab": {
          "base_uri": "https://localhost:8080/",
          "height": 423
        },
        "outputId": "7e8d103a-3adc-4539-ddef-2832b73a879e"
      },
      "source": [
        "coeff_pd"
      ],
      "id": "94dbfe73",
      "execution_count": null,
      "outputs": [
        {
          "output_type": "execute_result",
          "data": {
            "text/plain": [
              "       machine_features     value  abs_value colors\n",
              "84      departure_delay  0.627039   0.627039  green\n",
              "86                month  0.093038   0.093038  green\n",
              "85            dayofweek  0.082015   0.082015  green\n",
              "10           airline_OO  0.010776   0.010776  green\n",
              "13           airline_WN  0.008925   0.008925  green\n",
              "..                  ...       ...        ...    ...\n",
              "26  arrival_airport_BZN  0.000201   0.000201  green\n",
              "51  arrival_airport_MCI  0.000076   0.000076  green\n",
              "18  arrival_airport_ASE  0.000074   0.000074  green\n",
              "17  arrival_airport_ANC  0.000071   0.000071  green\n",
              "14           airline_YV  0.000070   0.000070  green\n",
              "\n",
              "[87 rows x 4 columns]"
            ],
            "text/html": [
              "\n",
              "  <div id=\"df-df083be1-4684-465f-b2cf-90f491e1b9d6\">\n",
              "    <div class=\"colab-df-container\">\n",
              "      <div>\n",
              "<style scoped>\n",
              "    .dataframe tbody tr th:only-of-type {\n",
              "        vertical-align: middle;\n",
              "    }\n",
              "\n",
              "    .dataframe tbody tr th {\n",
              "        vertical-align: top;\n",
              "    }\n",
              "\n",
              "    .dataframe thead th {\n",
              "        text-align: right;\n",
              "    }\n",
              "</style>\n",
              "<table border=\"1\" class=\"dataframe\">\n",
              "  <thead>\n",
              "    <tr style=\"text-align: right;\">\n",
              "      <th></th>\n",
              "      <th>machine_features</th>\n",
              "      <th>value</th>\n",
              "      <th>abs_value</th>\n",
              "      <th>colors</th>\n",
              "    </tr>\n",
              "  </thead>\n",
              "  <tbody>\n",
              "    <tr>\n",
              "      <th>84</th>\n",
              "      <td>departure_delay</td>\n",
              "      <td>0.627039</td>\n",
              "      <td>0.627039</td>\n",
              "      <td>green</td>\n",
              "    </tr>\n",
              "    <tr>\n",
              "      <th>86</th>\n",
              "      <td>month</td>\n",
              "      <td>0.093038</td>\n",
              "      <td>0.093038</td>\n",
              "      <td>green</td>\n",
              "    </tr>\n",
              "    <tr>\n",
              "      <th>85</th>\n",
              "      <td>dayofweek</td>\n",
              "      <td>0.082015</td>\n",
              "      <td>0.082015</td>\n",
              "      <td>green</td>\n",
              "    </tr>\n",
              "    <tr>\n",
              "      <th>10</th>\n",
              "      <td>airline_OO</td>\n",
              "      <td>0.010776</td>\n",
              "      <td>0.010776</td>\n",
              "      <td>green</td>\n",
              "    </tr>\n",
              "    <tr>\n",
              "      <th>13</th>\n",
              "      <td>airline_WN</td>\n",
              "      <td>0.008925</td>\n",
              "      <td>0.008925</td>\n",
              "      <td>green</td>\n",
              "    </tr>\n",
              "    <tr>\n",
              "      <th>...</th>\n",
              "      <td>...</td>\n",
              "      <td>...</td>\n",
              "      <td>...</td>\n",
              "      <td>...</td>\n",
              "    </tr>\n",
              "    <tr>\n",
              "      <th>26</th>\n",
              "      <td>arrival_airport_BZN</td>\n",
              "      <td>0.000201</td>\n",
              "      <td>0.000201</td>\n",
              "      <td>green</td>\n",
              "    </tr>\n",
              "    <tr>\n",
              "      <th>51</th>\n",
              "      <td>arrival_airport_MCI</td>\n",
              "      <td>0.000076</td>\n",
              "      <td>0.000076</td>\n",
              "      <td>green</td>\n",
              "    </tr>\n",
              "    <tr>\n",
              "      <th>18</th>\n",
              "      <td>arrival_airport_ASE</td>\n",
              "      <td>0.000074</td>\n",
              "      <td>0.000074</td>\n",
              "      <td>green</td>\n",
              "    </tr>\n",
              "    <tr>\n",
              "      <th>17</th>\n",
              "      <td>arrival_airport_ANC</td>\n",
              "      <td>0.000071</td>\n",
              "      <td>0.000071</td>\n",
              "      <td>green</td>\n",
              "    </tr>\n",
              "    <tr>\n",
              "      <th>14</th>\n",
              "      <td>airline_YV</td>\n",
              "      <td>0.000070</td>\n",
              "      <td>0.000070</td>\n",
              "      <td>green</td>\n",
              "    </tr>\n",
              "  </tbody>\n",
              "</table>\n",
              "<p>87 rows × 4 columns</p>\n",
              "</div>\n",
              "      <button class=\"colab-df-convert\" onclick=\"convertToInteractive('df-df083be1-4684-465f-b2cf-90f491e1b9d6')\"\n",
              "              title=\"Convert this dataframe to an interactive table.\"\n",
              "              style=\"display:none;\">\n",
              "        \n",
              "  <svg xmlns=\"http://www.w3.org/2000/svg\" height=\"24px\"viewBox=\"0 0 24 24\"\n",
              "       width=\"24px\">\n",
              "    <path d=\"M0 0h24v24H0V0z\" fill=\"none\"/>\n",
              "    <path d=\"M18.56 5.44l.94 2.06.94-2.06 2.06-.94-2.06-.94-.94-2.06-.94 2.06-2.06.94zm-11 1L8.5 8.5l.94-2.06 2.06-.94-2.06-.94L8.5 2.5l-.94 2.06-2.06.94zm10 10l.94 2.06.94-2.06 2.06-.94-2.06-.94-.94-2.06-.94 2.06-2.06.94z\"/><path d=\"M17.41 7.96l-1.37-1.37c-.4-.4-.92-.59-1.43-.59-.52 0-1.04.2-1.43.59L10.3 9.45l-7.72 7.72c-.78.78-.78 2.05 0 2.83L4 21.41c.39.39.9.59 1.41.59.51 0 1.02-.2 1.41-.59l7.78-7.78 2.81-2.81c.8-.78.8-2.07 0-2.86zM5.41 20L4 18.59l7.72-7.72 1.47 1.35L5.41 20z\"/>\n",
              "  </svg>\n",
              "      </button>\n",
              "      \n",
              "  <style>\n",
              "    .colab-df-container {\n",
              "      display:flex;\n",
              "      flex-wrap:wrap;\n",
              "      gap: 12px;\n",
              "    }\n",
              "\n",
              "    .colab-df-convert {\n",
              "      background-color: #E8F0FE;\n",
              "      border: none;\n",
              "      border-radius: 50%;\n",
              "      cursor: pointer;\n",
              "      display: none;\n",
              "      fill: #1967D2;\n",
              "      height: 32px;\n",
              "      padding: 0 0 0 0;\n",
              "      width: 32px;\n",
              "    }\n",
              "\n",
              "    .colab-df-convert:hover {\n",
              "      background-color: #E2EBFA;\n",
              "      box-shadow: 0px 1px 2px rgba(60, 64, 67, 0.3), 0px 1px 3px 1px rgba(60, 64, 67, 0.15);\n",
              "      fill: #174EA6;\n",
              "    }\n",
              "\n",
              "    [theme=dark] .colab-df-convert {\n",
              "      background-color: #3B4455;\n",
              "      fill: #D2E3FC;\n",
              "    }\n",
              "\n",
              "    [theme=dark] .colab-df-convert:hover {\n",
              "      background-color: #434B5C;\n",
              "      box-shadow: 0px 1px 3px 1px rgba(0, 0, 0, 0.15);\n",
              "      filter: drop-shadow(0px 1px 2px rgba(0, 0, 0, 0.3));\n",
              "      fill: #FFFFFF;\n",
              "    }\n",
              "  </style>\n",
              "\n",
              "      <script>\n",
              "        const buttonEl =\n",
              "          document.querySelector('#df-df083be1-4684-465f-b2cf-90f491e1b9d6 button.colab-df-convert');\n",
              "        buttonEl.style.display =\n",
              "          google.colab.kernel.accessAllowed ? 'block' : 'none';\n",
              "\n",
              "        async function convertToInteractive(key) {\n",
              "          const element = document.querySelector('#df-df083be1-4684-465f-b2cf-90f491e1b9d6');\n",
              "          const dataTable =\n",
              "            await google.colab.kernel.invokeFunction('convertToInteractive',\n",
              "                                                     [key], {});\n",
              "          if (!dataTable) return;\n",
              "\n",
              "          const docLinkHtml = 'Like what you see? Visit the ' +\n",
              "            '<a target=\"_blank\" href=https://colab.research.google.com/notebooks/data_table.ipynb>data table notebook</a>'\n",
              "            + ' to learn more about interactive tables.';\n",
              "          element.innerHTML = '';\n",
              "          dataTable['output_type'] = 'display_data';\n",
              "          await google.colab.output.renderOutput(dataTable, element);\n",
              "          const docLink = document.createElement('div');\n",
              "          docLink.innerHTML = docLinkHtml;\n",
              "          element.appendChild(docLink);\n",
              "        }\n",
              "      </script>\n",
              "    </div>\n",
              "  </div>\n",
              "  "
            ]
          },
          "metadata": {},
          "execution_count": 48
        }
      ]
    },
    {
      "cell_type": "markdown",
      "metadata": {
        "id": "849fc89b"
      },
      "source": [
        "#### 5.3 เปรียบเทียบผลการทดลองในหลายๆ Algorithms"
      ],
      "id": "849fc89b"
    },
    {
      "cell_type": "code",
      "metadata": {
        "id": "18405cc5"
      },
      "source": [
        "from sklearn.neural_network import MLPClassifier\n",
        "from sklearn.neighbors import KNeighborsClassifier\n",
        "from sklearn.svm import SVC\n",
        "from sklearn.svm import LinearSVC\n",
        "from sklearn.gaussian_process import GaussianProcessClassifier\n",
        "from sklearn.gaussian_process.kernels import RBF\n",
        "from sklearn.tree import DecisionTreeClassifier\n",
        "from sklearn.ensemble import RandomForestClassifier, AdaBoostClassifier\n",
        "from sklearn.naive_bayes import GaussianNB\n",
        "from sklearn.discriminant_analysis import QuadraticDiscriminantAnalysis\n",
        "from sklearn.dummy import DummyClassifier\n",
        "import warnings\n",
        "warnings.simplefilter(\"ignore\")\n"
      ],
      "id": "18405cc5",
      "execution_count": null,
      "outputs": []
    },
    {
      "cell_type": "code",
      "metadata": {
        "id": "116e155b"
      },
      "source": [
        "classifiers = {\n",
        "    \"Dummy\"        : DummyClassifier(strategy='uniform', random_state=2),\n",
        "    \"KNN(3)\"       : KNeighborsClassifier(3), \n",
        "    \"RBF SVM\"      : SVC(gamma=2, C=1), \n",
        "    \"Decision Tree\": DecisionTreeClassifier(max_depth=7), \n",
        "    \"Random Forest\": RandomForestClassifier(max_depth=7, n_estimators=10, max_features=4), \n",
        "    \"Neural Net\"   : MLPClassifier(alpha=1), \n",
        "    \"AdaBoost\"     : AdaBoostClassifier(),\n",
        "    \"Naive Bayes\"  : GaussianNB(), \n",
        "    \"QDA\"          : QuadraticDiscriminantAnalysis(),\n",
        "    \"Linear SVC\"   : LinearSVC(),\n",
        "    \"Linear SVM\"   : SVC(kernel=\"linear\"), \n",
        "    \"Gaussian Proc\": GaussianProcessClassifier(1.0 * RBF(1.0)),\n",
        "}\n"
      ],
      "id": "116e155b",
      "execution_count": null,
      "outputs": []
    },
    {
      "cell_type": "code",
      "metadata": {
        "id": "682df807",
        "colab": {
          "base_uri": "https://localhost:8080/"
        },
        "outputId": "a96918b2-641b-4129-efa9-86311e4233cf"
      },
      "source": [
        "from time import time\n",
        "nfast = 10\n",
        "head = list(classifiers.items())[:nfast]\n",
        "\n",
        "for name, classifier in head:\n",
        "    start = time()\n",
        "    pipe = Pipeline(steps=[('preprocessor', preprocessor),\n",
        "                       ('model', classifier)])\n",
        "    pipeline_model = pipe.fit(X_train, y_train.values.flatten())\n",
        "    train_time = time() - start\n",
        "    start = time()\n",
        "    score = pipeline_model.score(X_test, y_test.values.flatten())\n",
        "    score_time = time()-start\n",
        "    print(\"{:<15}| score = {:.3f} | time = {:,.3f}s/{:,.3f}s\".format(name, score, train_time, score_time))"
      ],
      "id": "682df807",
      "execution_count": null,
      "outputs": [
        {
          "output_type": "stream",
          "name": "stdout",
          "text": [
            "Dummy          | score = 0.501 | time = 0.129s/0.045s\n",
            "KNN(3)         | score = 0.849 | time = 0.102s/13.345s\n",
            "RBF SVM        | score = 0.777 | time = 956.247s/52.860s\n",
            "Decision Tree  | score = 0.872 | time = 0.219s/0.021s\n",
            "Random Forest  | score = 0.870 | time = 0.228s/0.029s\n",
            "Neural Net     | score = 0.874 | time = 18.236s/0.046s\n",
            "AdaBoost       | score = 0.873 | time = 3.439s/0.182s\n",
            "Naive Bayes    | score = 0.725 | time = 0.116s/0.030s\n",
            "QDA            | score = 0.665 | time = 0.458s/0.060s\n",
            "Linear SVC     | score = 0.869 | time = 2.804s/0.020s\n"
          ]
        }
      ]
    },
    {
      "cell_type": "code",
      "metadata": {
        "id": "bc4721a3",
        "colab": {
          "base_uri": "https://localhost:8080/"
        },
        "outputId": "d0762124-13dc-4bdb-e6c6-47c52fb709cf"
      },
      "source": [
        "raw_pd[(raw_pd.delayed == 0)]['arrival_delay'].describe()"
      ],
      "id": "bc4721a3",
      "execution_count": null,
      "outputs": [
        {
          "output_type": "execute_result",
          "data": {
            "text/plain": [
              "count    24984.000000\n",
              "mean        -1.092379\n",
              "std          9.995542\n",
              "min        -65.000000\n",
              "25%         -7.000000\n",
              "50%          0.000000\n",
              "75%          7.000000\n",
              "max         14.000000\n",
              "Name: arrival_delay, dtype: float64"
            ]
          },
          "metadata": {},
          "execution_count": 52
        }
      ]
    },
    {
      "cell_type": "code",
      "metadata": {
        "colab": {
          "base_uri": "https://localhost:8080/"
        },
        "id": "lo1hZeVN5yM7",
        "outputId": "55306e37-6790-4108-c42a-71b5d89e05ef"
      },
      "source": [
        "raw_pd[(raw_pd.delayed == 1)]['arrival_delay'].describe()"
      ],
      "id": "lo1hZeVN5yM7",
      "execution_count": null,
      "outputs": [
        {
          "output_type": "execute_result",
          "data": {
            "text/plain": [
              "count    22801.000000\n",
              "mean        47.760712\n",
              "std         27.940531\n",
              "min         15.000000\n",
              "25%         24.000000\n",
              "50%         40.000000\n",
              "75%         66.000000\n",
              "max        189.000000\n",
              "Name: arrival_delay, dtype: float64"
            ]
          },
          "metadata": {},
          "execution_count": 53
        }
      ]
    },
    {
      "cell_type": "code",
      "metadata": {
        "colab": {
          "base_uri": "https://localhost:8080/"
        },
        "id": "NvCFvH8nZqgi",
        "outputId": "40db79b5-9a36-4db2-ddec-a81d8c281a30"
      },
      "source": [
        "raw_pd.groupby(['month','delayed']).size()"
      ],
      "id": "NvCFvH8nZqgi",
      "execution_count": null,
      "outputs": [
        {
          "output_type": "execute_result",
          "data": {
            "text/plain": [
              "month  delayed\n",
              "1      0          1755\n",
              "       1          1840\n",
              "2      0          1638\n",
              "       1          2012\n",
              "3      0          1888\n",
              "       1          1807\n",
              "4      0          1718\n",
              "       1          1771\n",
              "5      0          1906\n",
              "       1          2149\n",
              "6      0          2436\n",
              "       1          2393\n",
              "7      0          2539\n",
              "       1          2022\n",
              "8      0          2404\n",
              "       1          2122\n",
              "9      0          1720\n",
              "       1          1429\n",
              "10     0          2445\n",
              "       1          2153\n",
              "11     0          1799\n",
              "       1           963\n",
              "12     0          2736\n",
              "       1          2140\n",
              "dtype: int64"
            ]
          },
          "metadata": {},
          "execution_count": 54
        }
      ]
    },
    {
      "cell_type": "code",
      "metadata": {
        "colab": {
          "base_uri": "https://localhost:8080/"
        },
        "id": "rv4WXy-4eKAz",
        "outputId": "83f1a004-64a3-46f4-8bbe-638477e6cd23"
      },
      "source": [
        "raw_pd.groupby(['dayofweek','delayed']).size()"
      ],
      "id": "rv4WXy-4eKAz",
      "execution_count": null,
      "outputs": [
        {
          "output_type": "execute_result",
          "data": {
            "text/plain": [
              "dayofweek  delayed\n",
              "1          0          3713\n",
              "           1          3744\n",
              "2          0          3870\n",
              "           1          3361\n",
              "3          0          3314\n",
              "           1          2694\n",
              "4          0          3383\n",
              "           1          3050\n",
              "5          0          3882\n",
              "           1          3550\n",
              "6          0          3739\n",
              "           1          3848\n",
              "7          0          3083\n",
              "           1          2554\n",
              "dtype: int64"
            ]
          },
          "metadata": {},
          "execution_count": 55
        }
      ]
    },
    {
      "cell_type": "code",
      "metadata": {
        "id": "HrX8LjEOfRyH"
      },
      "source": [],
      "id": "HrX8LjEOfRyH",
      "execution_count": null,
      "outputs": []
    }
  ]
}