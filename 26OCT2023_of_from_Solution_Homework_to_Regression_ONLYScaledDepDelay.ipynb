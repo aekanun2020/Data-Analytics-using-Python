{
  "nbformat": 4,
  "nbformat_minor": 0,
  "metadata": {
    "colab": {
      "provenance": [],
      "include_colab_link": true
    },
    "kernelspec": {
      "name": "python3",
      "display_name": "Python 3"
    },
    "language_info": {
      "name": "python"
    }
  },
  "cells": [
    {
      "cell_type": "markdown",
      "metadata": {
        "id": "view-in-github",
        "colab_type": "text"
      },
      "source": [
        "<a href=\"https://colab.research.google.com/github/aekanun2020/Data-Analytics-using-Python/blob/main/26OCT2023_of_from_Solution_Homework_to_Regression_ONLYScaledDepDelay.ipynb\" target=\"_parent\"><img src=\"https://colab.research.google.com/assets/colab-badge.svg\" alt=\"Open In Colab\"/></a>"
      ]
    },
    {
      "cell_type": "code",
      "source": [
        "import pandas as pd"
      ],
      "metadata": {
        "id": "TPW33Jyr0rDw"
      },
      "execution_count": 1,
      "outputs": []
    },
    {
      "cell_type": "code",
      "source": [
        "import numpy as np\n",
        "import pandas as pd\n",
        "import matplotlib.pyplot as plt\n",
        "import seaborn as sns"
      ],
      "metadata": {
        "id": "69nLUeAqa6O-"
      },
      "execution_count": 2,
      "outputs": []
    },
    {
      "cell_type": "code",
      "execution_count": 3,
      "metadata": {
        "id": "dYaYQoX2zm6d",
        "colab": {
          "base_uri": "https://localhost:8080/"
        },
        "outputId": "6655f8cf-b904-4e66-b996-46549d2db985"
      },
      "outputs": [
        {
          "output_type": "stream",
          "name": "stdout",
          "text": [
            "--2023-10-26 12:26:45--  https://storage.googleapis.com/1sep/2008.csv\n",
            "Resolving storage.googleapis.com (storage.googleapis.com)... 74.125.134.207, 173.194.212.207, 173.194.213.207, ...\n",
            "Connecting to storage.googleapis.com (storage.googleapis.com)|74.125.134.207|:443... connected.\n",
            "HTTP request sent, awaiting response... 200 OK\n",
            "Length: 689413344 (657M) [text/csv]\n",
            "Saving to: ‘2008.csv’\n",
            "\n",
            "2008.csv            100%[===================>] 657.48M   210MB/s    in 3.2s    \n",
            "\n",
            "2023-10-26 12:26:49 (205 MB/s) - ‘2008.csv’ saved [689413344/689413344]\n",
            "\n"
          ]
        }
      ],
      "source": [
        "! wget https://storage.googleapis.com/1sep/2008.csv"
      ]
    },
    {
      "cell_type": "code",
      "source": [
        "! wc -l 2008.csv"
      ],
      "metadata": {
        "id": "TG2-Sj5az66M",
        "colab": {
          "base_uri": "https://localhost:8080/"
        },
        "outputId": "e3a3b079-d31e-484e-9d79-516be9d9d38e"
      },
      "execution_count": 4,
      "outputs": [
        {
          "output_type": "stream",
          "name": "stdout",
          "text": [
            "7009729 2008.csv\n"
          ]
        }
      ]
    },
    {
      "cell_type": "code",
      "source": [
        "import pandas as pd\n",
        "import random\n",
        "\n",
        "f = \"2008.csv\"\n",
        "num_lines = sum(1 for l in open(f))\n",
        "size = int(num_lines / 100)\n",
        "\n",
        "# ตั้งค่า seed สำหรับการสุ่ม\n",
        "random.seed(42)  # คุณสามารถเปลี่ยนเลข 42 เป็นเลขอื่น ๆ ได้\n",
        "\n",
        "skip_idx = random.sample(range(1, num_lines), num_lines - size)\n",
        "raw_pd = pd.read_csv(f, skiprows=skip_idx)\n"
      ],
      "metadata": {
        "id": "xcyjgxjNZQN7"
      },
      "execution_count": 5,
      "outputs": []
    },
    {
      "cell_type": "code",
      "source": [
        "features_pd = raw_pd[['DepDelay','ArrDelay']]"
      ],
      "metadata": {
        "id": "GnYJSUARcCwg"
      },
      "execution_count": 6,
      "outputs": []
    },
    {
      "cell_type": "code",
      "source": [
        "final_pd = features_pd.dropna()"
      ],
      "metadata": {
        "id": "wouBuA79Xb2Y"
      },
      "execution_count": 7,
      "outputs": []
    },
    {
      "cell_type": "code",
      "source": [
        "import pandas as pd\n",
        "\n",
        "# สมมติว่าเรามี DataFrame ชื่อ final_pd\n",
        "correlation = final_pd['DepDelay'].corr(final_pd['ArrDelay'])\n",
        "\n",
        "print(f\"ค่าสหสัมพันธ์ระหว่าง DepDelay และ ArrDelay คือ: {correlation:.4f}\")\n"
      ],
      "metadata": {
        "id": "k7vaOx4374Zb",
        "outputId": "22d389d4-2233-4716-cd19-119593764580",
        "colab": {
          "base_uri": "https://localhost:8080/"
        }
      },
      "execution_count": 8,
      "outputs": [
        {
          "output_type": "stream",
          "name": "stdout",
          "text": [
            "ค่าสหสัมพันธ์ระหว่าง DepDelay และ ArrDelay คือ: 0.9304\n"
          ]
        }
      ]
    },
    {
      "cell_type": "code",
      "source": [
        "final_pd.describe().transpose()"
      ],
      "metadata": {
        "colab": {
          "base_uri": "https://localhost:8080/",
          "height": 112
        },
        "id": "QGZB4D1h0zva",
        "outputId": "ee73bc1f-65b7-4bd4-d09c-e9110a60754c"
      },
      "execution_count": 9,
      "outputs": [
        {
          "output_type": "execute_result",
          "data": {
            "text/plain": [
              "            count      mean        std   min   25%  50%   75%     max\n",
              "DepDelay  68524.0  9.875970  34.800186 -59.0  -4.0 -1.0   8.0  1153.0\n",
              "ArrDelay  68524.0  8.020927  38.194390 -81.0 -10.0 -2.0  11.0  1312.0"
            ],
            "text/html": [
              "\n",
              "  <div id=\"df-c2bcc3ec-f650-41fe-8cec-eb54d9ca5c21\" class=\"colab-df-container\">\n",
              "    <div>\n",
              "<style scoped>\n",
              "    .dataframe tbody tr th:only-of-type {\n",
              "        vertical-align: middle;\n",
              "    }\n",
              "\n",
              "    .dataframe tbody tr th {\n",
              "        vertical-align: top;\n",
              "    }\n",
              "\n",
              "    .dataframe thead th {\n",
              "        text-align: right;\n",
              "    }\n",
              "</style>\n",
              "<table border=\"1\" class=\"dataframe\">\n",
              "  <thead>\n",
              "    <tr style=\"text-align: right;\">\n",
              "      <th></th>\n",
              "      <th>count</th>\n",
              "      <th>mean</th>\n",
              "      <th>std</th>\n",
              "      <th>min</th>\n",
              "      <th>25%</th>\n",
              "      <th>50%</th>\n",
              "      <th>75%</th>\n",
              "      <th>max</th>\n",
              "    </tr>\n",
              "  </thead>\n",
              "  <tbody>\n",
              "    <tr>\n",
              "      <th>DepDelay</th>\n",
              "      <td>68524.0</td>\n",
              "      <td>9.875970</td>\n",
              "      <td>34.800186</td>\n",
              "      <td>-59.0</td>\n",
              "      <td>-4.0</td>\n",
              "      <td>-1.0</td>\n",
              "      <td>8.0</td>\n",
              "      <td>1153.0</td>\n",
              "    </tr>\n",
              "    <tr>\n",
              "      <th>ArrDelay</th>\n",
              "      <td>68524.0</td>\n",
              "      <td>8.020927</td>\n",
              "      <td>38.194390</td>\n",
              "      <td>-81.0</td>\n",
              "      <td>-10.0</td>\n",
              "      <td>-2.0</td>\n",
              "      <td>11.0</td>\n",
              "      <td>1312.0</td>\n",
              "    </tr>\n",
              "  </tbody>\n",
              "</table>\n",
              "</div>\n",
              "    <div class=\"colab-df-buttons\">\n",
              "\n",
              "  <div class=\"colab-df-container\">\n",
              "    <button class=\"colab-df-convert\" onclick=\"convertToInteractive('df-c2bcc3ec-f650-41fe-8cec-eb54d9ca5c21')\"\n",
              "            title=\"Convert this dataframe to an interactive table.\"\n",
              "            style=\"display:none;\">\n",
              "\n",
              "  <svg xmlns=\"http://www.w3.org/2000/svg\" height=\"24px\" viewBox=\"0 -960 960 960\">\n",
              "    <path d=\"M120-120v-720h720v720H120Zm60-500h600v-160H180v160Zm220 220h160v-160H400v160Zm0 220h160v-160H400v160ZM180-400h160v-160H180v160Zm440 0h160v-160H620v160ZM180-180h160v-160H180v160Zm440 0h160v-160H620v160Z\"/>\n",
              "  </svg>\n",
              "    </button>\n",
              "\n",
              "  <style>\n",
              "    .colab-df-container {\n",
              "      display:flex;\n",
              "      gap: 12px;\n",
              "    }\n",
              "\n",
              "    .colab-df-convert {\n",
              "      background-color: #E8F0FE;\n",
              "      border: none;\n",
              "      border-radius: 50%;\n",
              "      cursor: pointer;\n",
              "      display: none;\n",
              "      fill: #1967D2;\n",
              "      height: 32px;\n",
              "      padding: 0 0 0 0;\n",
              "      width: 32px;\n",
              "    }\n",
              "\n",
              "    .colab-df-convert:hover {\n",
              "      background-color: #E2EBFA;\n",
              "      box-shadow: 0px 1px 2px rgba(60, 64, 67, 0.3), 0px 1px 3px 1px rgba(60, 64, 67, 0.15);\n",
              "      fill: #174EA6;\n",
              "    }\n",
              "\n",
              "    .colab-df-buttons div {\n",
              "      margin-bottom: 4px;\n",
              "    }\n",
              "\n",
              "    [theme=dark] .colab-df-convert {\n",
              "      background-color: #3B4455;\n",
              "      fill: #D2E3FC;\n",
              "    }\n",
              "\n",
              "    [theme=dark] .colab-df-convert:hover {\n",
              "      background-color: #434B5C;\n",
              "      box-shadow: 0px 1px 3px 1px rgba(0, 0, 0, 0.15);\n",
              "      filter: drop-shadow(0px 1px 2px rgba(0, 0, 0, 0.3));\n",
              "      fill: #FFFFFF;\n",
              "    }\n",
              "  </style>\n",
              "\n",
              "    <script>\n",
              "      const buttonEl =\n",
              "        document.querySelector('#df-c2bcc3ec-f650-41fe-8cec-eb54d9ca5c21 button.colab-df-convert');\n",
              "      buttonEl.style.display =\n",
              "        google.colab.kernel.accessAllowed ? 'block' : 'none';\n",
              "\n",
              "      async function convertToInteractive(key) {\n",
              "        const element = document.querySelector('#df-c2bcc3ec-f650-41fe-8cec-eb54d9ca5c21');\n",
              "        const dataTable =\n",
              "          await google.colab.kernel.invokeFunction('convertToInteractive',\n",
              "                                                    [key], {});\n",
              "        if (!dataTable) return;\n",
              "\n",
              "        const docLinkHtml = 'Like what you see? Visit the ' +\n",
              "          '<a target=\"_blank\" href=https://colab.research.google.com/notebooks/data_table.ipynb>data table notebook</a>'\n",
              "          + ' to learn more about interactive tables.';\n",
              "        element.innerHTML = '';\n",
              "        dataTable['output_type'] = 'display_data';\n",
              "        await google.colab.output.renderOutput(dataTable, element);\n",
              "        const docLink = document.createElement('div');\n",
              "        docLink.innerHTML = docLinkHtml;\n",
              "        element.appendChild(docLink);\n",
              "      }\n",
              "    </script>\n",
              "  </div>\n",
              "\n",
              "\n",
              "<div id=\"df-12d0af6b-9388-4593-ba92-1da49caed1d9\">\n",
              "  <button class=\"colab-df-quickchart\" onclick=\"quickchart('df-12d0af6b-9388-4593-ba92-1da49caed1d9')\"\n",
              "            title=\"Suggest charts.\"\n",
              "            style=\"display:none;\">\n",
              "\n",
              "<svg xmlns=\"http://www.w3.org/2000/svg\" height=\"24px\"viewBox=\"0 0 24 24\"\n",
              "     width=\"24px\">\n",
              "    <g>\n",
              "        <path d=\"M19 3H5c-1.1 0-2 .9-2 2v14c0 1.1.9 2 2 2h14c1.1 0 2-.9 2-2V5c0-1.1-.9-2-2-2zM9 17H7v-7h2v7zm4 0h-2V7h2v10zm4 0h-2v-4h2v4z\"/>\n",
              "    </g>\n",
              "</svg>\n",
              "  </button>\n",
              "\n",
              "<style>\n",
              "  .colab-df-quickchart {\n",
              "      --bg-color: #E8F0FE;\n",
              "      --fill-color: #1967D2;\n",
              "      --hover-bg-color: #E2EBFA;\n",
              "      --hover-fill-color: #174EA6;\n",
              "      --disabled-fill-color: #AAA;\n",
              "      --disabled-bg-color: #DDD;\n",
              "  }\n",
              "\n",
              "  [theme=dark] .colab-df-quickchart {\n",
              "      --bg-color: #3B4455;\n",
              "      --fill-color: #D2E3FC;\n",
              "      --hover-bg-color: #434B5C;\n",
              "      --hover-fill-color: #FFFFFF;\n",
              "      --disabled-bg-color: #3B4455;\n",
              "      --disabled-fill-color: #666;\n",
              "  }\n",
              "\n",
              "  .colab-df-quickchart {\n",
              "    background-color: var(--bg-color);\n",
              "    border: none;\n",
              "    border-radius: 50%;\n",
              "    cursor: pointer;\n",
              "    display: none;\n",
              "    fill: var(--fill-color);\n",
              "    height: 32px;\n",
              "    padding: 0;\n",
              "    width: 32px;\n",
              "  }\n",
              "\n",
              "  .colab-df-quickchart:hover {\n",
              "    background-color: var(--hover-bg-color);\n",
              "    box-shadow: 0 1px 2px rgba(60, 64, 67, 0.3), 0 1px 3px 1px rgba(60, 64, 67, 0.15);\n",
              "    fill: var(--button-hover-fill-color);\n",
              "  }\n",
              "\n",
              "  .colab-df-quickchart-complete:disabled,\n",
              "  .colab-df-quickchart-complete:disabled:hover {\n",
              "    background-color: var(--disabled-bg-color);\n",
              "    fill: var(--disabled-fill-color);\n",
              "    box-shadow: none;\n",
              "  }\n",
              "\n",
              "  .colab-df-spinner {\n",
              "    border: 2px solid var(--fill-color);\n",
              "    border-color: transparent;\n",
              "    border-bottom-color: var(--fill-color);\n",
              "    animation:\n",
              "      spin 1s steps(1) infinite;\n",
              "  }\n",
              "\n",
              "  @keyframes spin {\n",
              "    0% {\n",
              "      border-color: transparent;\n",
              "      border-bottom-color: var(--fill-color);\n",
              "      border-left-color: var(--fill-color);\n",
              "    }\n",
              "    20% {\n",
              "      border-color: transparent;\n",
              "      border-left-color: var(--fill-color);\n",
              "      border-top-color: var(--fill-color);\n",
              "    }\n",
              "    30% {\n",
              "      border-color: transparent;\n",
              "      border-left-color: var(--fill-color);\n",
              "      border-top-color: var(--fill-color);\n",
              "      border-right-color: var(--fill-color);\n",
              "    }\n",
              "    40% {\n",
              "      border-color: transparent;\n",
              "      border-right-color: var(--fill-color);\n",
              "      border-top-color: var(--fill-color);\n",
              "    }\n",
              "    60% {\n",
              "      border-color: transparent;\n",
              "      border-right-color: var(--fill-color);\n",
              "    }\n",
              "    80% {\n",
              "      border-color: transparent;\n",
              "      border-right-color: var(--fill-color);\n",
              "      border-bottom-color: var(--fill-color);\n",
              "    }\n",
              "    90% {\n",
              "      border-color: transparent;\n",
              "      border-bottom-color: var(--fill-color);\n",
              "    }\n",
              "  }\n",
              "</style>\n",
              "\n",
              "  <script>\n",
              "    async function quickchart(key) {\n",
              "      const quickchartButtonEl =\n",
              "        document.querySelector('#' + key + ' button');\n",
              "      quickchartButtonEl.disabled = true;  // To prevent multiple clicks.\n",
              "      quickchartButtonEl.classList.add('colab-df-spinner');\n",
              "      try {\n",
              "        const charts = await google.colab.kernel.invokeFunction(\n",
              "            'suggestCharts', [key], {});\n",
              "      } catch (error) {\n",
              "        console.error('Error during call to suggestCharts:', error);\n",
              "      }\n",
              "      quickchartButtonEl.classList.remove('colab-df-spinner');\n",
              "      quickchartButtonEl.classList.add('colab-df-quickchart-complete');\n",
              "    }\n",
              "    (() => {\n",
              "      let quickchartButtonEl =\n",
              "        document.querySelector('#df-12d0af6b-9388-4593-ba92-1da49caed1d9 button');\n",
              "      quickchartButtonEl.style.display =\n",
              "        google.colab.kernel.accessAllowed ? 'block' : 'none';\n",
              "    })();\n",
              "  </script>\n",
              "</div>\n",
              "    </div>\n",
              "  </div>\n"
            ]
          },
          "metadata": {},
          "execution_count": 9
        }
      ]
    },
    {
      "cell_type": "code",
      "source": [
        "final_pd.count()"
      ],
      "metadata": {
        "id": "OvVzUT9OXbyv",
        "colab": {
          "base_uri": "https://localhost:8080/"
        },
        "outputId": "160c8787-1398-449b-f0d7-9774941e3f5c"
      },
      "execution_count": 10,
      "outputs": [
        {
          "output_type": "execute_result",
          "data": {
            "text/plain": [
              "DepDelay    68524\n",
              "ArrDelay    68524\n",
              "dtype: int64"
            ]
          },
          "metadata": {},
          "execution_count": 10
        }
      ]
    },
    {
      "cell_type": "code",
      "source": [
        "import pandas as pd\n",
        "from seaborn import load_dataset\n",
        "import numpy as np\n",
        "\n",
        "from sklearn.model_selection import train_test_split\n",
        "from sklearn.base import BaseEstimator, TransformerMixin\n",
        "from sklearn.preprocessing import OneHotEncoder, MinMaxScaler\n",
        "from sklearn.impute import SimpleImputer\n",
        "from sklearn.pipeline import Pipeline, FeatureUnion\n",
        "from sklearn.compose import ColumnTransformer\n",
        "from sklearn.linear_model import LinearRegression"
      ],
      "metadata": {
        "id": "sC1Yq7VPSo3H"
      },
      "execution_count": 11,
      "outputs": []
    },
    {
      "cell_type": "code",
      "source": [
        "train_df = final_pd.sample(frac=0.8,random_state=123)"
      ],
      "metadata": {
        "id": "7-3UT4nJS_Zr"
      },
      "execution_count": 12,
      "outputs": []
    },
    {
      "cell_type": "code",
      "source": [
        "test_df = final_pd.drop(train_df.index)"
      ],
      "metadata": {
        "id": "S2Q1qB6ITRfU"
      },
      "execution_count": 13,
      "outputs": []
    },
    {
      "cell_type": "code",
      "source": [
        "train_df.count()"
      ],
      "metadata": {
        "id": "hwrZxWwzTWjc",
        "colab": {
          "base_uri": "https://localhost:8080/"
        },
        "outputId": "bb1a43c5-1ded-48d3-8304-bbb4fcb5e0f1"
      },
      "execution_count": 14,
      "outputs": [
        {
          "output_type": "execute_result",
          "data": {
            "text/plain": [
              "DepDelay    54819\n",
              "ArrDelay    54819\n",
              "dtype: int64"
            ]
          },
          "metadata": {},
          "execution_count": 14
        }
      ]
    },
    {
      "cell_type": "code",
      "source": [
        "test_df.count()"
      ],
      "metadata": {
        "id": "LPwBx3n9TZyz",
        "colab": {
          "base_uri": "https://localhost:8080/"
        },
        "outputId": "8224502d-47e3-4a56-cbfb-7b1cdbf0f9c1"
      },
      "execution_count": 15,
      "outputs": [
        {
          "output_type": "execute_result",
          "data": {
            "text/plain": [
              "DepDelay    13705\n",
              "ArrDelay    13705\n",
              "dtype: int64"
            ]
          },
          "metadata": {},
          "execution_count": 15
        }
      ]
    },
    {
      "cell_type": "code",
      "source": [
        "train_labels = train_df.filter(['ArrDelay'])\n",
        "train_df = train_df.loc[:, train_df.columns != 'ArrDelay']"
      ],
      "metadata": {
        "id": "p5EFPeS0Tb5_"
      },
      "execution_count": 16,
      "outputs": []
    },
    {
      "cell_type": "code",
      "source": [
        "type(train_labels)"
      ],
      "metadata": {
        "id": "k97_KQlBUYME",
        "colab": {
          "base_uri": "https://localhost:8080/"
        },
        "outputId": "60dfd92e-84a9-4611-8ba2-0590fb3b2139"
      },
      "execution_count": 17,
      "outputs": [
        {
          "output_type": "execute_result",
          "data": {
            "text/plain": [
              "pandas.core.frame.DataFrame"
            ]
          },
          "metadata": {},
          "execution_count": 17
        }
      ]
    },
    {
      "cell_type": "code",
      "source": [
        "test_labels = test_df.filter(['ArrDelay'])\n",
        "test_df = test_df.loc[:, test_df.columns != 'ArrDelay']"
      ],
      "metadata": {
        "id": "5T_HfZrWUaj3"
      },
      "execution_count": 18,
      "outputs": []
    },
    {
      "cell_type": "code",
      "source": [
        "X_train = train_df\n",
        "X_test = test_df\n",
        "y_train = train_labels\n",
        "y_test = test_labels"
      ],
      "metadata": {
        "id": "MQSm_cPWUqfJ"
      },
      "execution_count": 19,
      "outputs": []
    },
    {
      "cell_type": "code",
      "source": [
        "categorical = list(X_train.select_dtypes('object').columns)\n",
        "print(f\"Categorical columns are: {categorical}\")\n",
        "\n",
        "numerical = list(X_train.select_dtypes('number').columns)\n",
        "print(f\"Numerical columns are: {numerical}\")"
      ],
      "metadata": {
        "id": "v_31Pv9oVQbm",
        "colab": {
          "base_uri": "https://localhost:8080/"
        },
        "outputId": "b1809062-f2c7-406b-bd3e-445cf50ba94a"
      },
      "execution_count": 20,
      "outputs": [
        {
          "output_type": "stream",
          "name": "stdout",
          "text": [
            "Categorical columns are: []\n",
            "Numerical columns are: ['DepDelay']\n"
          ]
        }
      ]
    },
    {
      "cell_type": "code",
      "source": [],
      "metadata": {
        "id": "7rD4_wbdWp9x"
      },
      "execution_count": 20,
      "outputs": []
    },
    {
      "cell_type": "code",
      "source": [
        "from sklearn.tree import DecisionTreeClassifier, export_graphviz, DecisionTreeRegressor\n",
        "from sklearn import tree\n",
        "from sklearn.datasets import load_wine\n",
        "from sklearn.model_selection import train_test_split\n",
        "from sklearn import metrics"
      ],
      "metadata": {
        "id": "-B9QcYVMWqc1"
      },
      "execution_count": 21,
      "outputs": []
    },
    {
      "cell_type": "code",
      "source": [
        "# Define custom transformer\n",
        "class ColumnSelector(BaseEstimator, TransformerMixin):\n",
        "    \"\"\"Select only specified columns.\"\"\"\n",
        "    def __init__(self, columns):\n",
        "        self.columns = columns\n",
        "\n",
        "    def fit(self, X, y=None):\n",
        "        return self\n",
        "\n",
        "    def transform(self, X):\n",
        "        return X[self.columns]\n",
        "\n",
        "# Define categorical pipeline\n",
        "#cat_pipe = Pipeline([('selector', ColumnSelector(categorical)),\n",
        "#                     ('imputer', SimpleImputer(strategy='constant', fill_value='missing')),\n",
        "#                     ('encoder', OneHotEncoder(handle_unknown='ignore', sparse=False))])\n",
        "\n",
        "# Define numerical pipeline\n",
        "num_pipe = Pipeline([('selector', ColumnSelector(numerical)),\n",
        "                     #('imputer', SimpleImputer(strategy='median')),\n",
        "                     ('scaler', MinMaxScaler())\n",
        "                    ])\n",
        "\n",
        "# Combine categorical and numerical pipeline\n",
        "preprocessor = FeatureUnion(transformer_list=[\n",
        "    #('cat', cat_pipe),\n",
        "                                              ('num', num_pipe)])\n",
        "\n",
        "# Model Training\n",
        "pipe = Pipeline(steps=[('preprocessor', preprocessor),\n",
        "              ('model', DecisionTreeRegressor(max_depth=None))])\n",
        "pipeline_model = pipe.fit(X_train, y_train)"
      ],
      "metadata": {
        "id": "V0bGO402WyZl"
      },
      "execution_count": 22,
      "outputs": []
    },
    {
      "cell_type": "code",
      "source": [
        "from sklearn.metrics import explained_variance_score\n",
        "from sklearn.metrics import mean_squared_error\n",
        "from sklearn.metrics import r2_score\n",
        "\n",
        "predictions = pipeline_model.predict(X_test)\n",
        "print(\"\\t RMSE:\", mean_squared_error(y_test, predictions, squared=False))\n",
        "print(\"\\t R2 score:\", r2_score(y_test, predictions))"
      ],
      "metadata": {
        "id": "-8N8WTs_jNpE",
        "colab": {
          "base_uri": "https://localhost:8080/"
        },
        "outputId": "d364570b-b387-4dcc-916c-007082b2aac6"
      },
      "execution_count": 23,
      "outputs": [
        {
          "output_type": "stream",
          "name": "stdout",
          "text": [
            "\t RMSE: 14.614705275246102\n",
            "\t R2 score: 0.8743034941647341\n"
          ]
        }
      ]
    },
    {
      "cell_type": "code",
      "source": [],
      "metadata": {
        "id": "HDCa5HBZtGMJ"
      },
      "execution_count": 23,
      "outputs": []
    }
  ]
}